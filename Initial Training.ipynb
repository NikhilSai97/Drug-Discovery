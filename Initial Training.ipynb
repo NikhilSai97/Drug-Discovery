{
 "cells": [
  {
   "cell_type": "markdown",
   "metadata": {
    "papermill": {
     "duration": 0.025726,
     "end_time": "2021-01-06T08:54:39.420659",
     "exception": false,
     "start_time": "2021-01-06T08:54:39.394933",
     "status": "completed"
    },
    "tags": []
   },
   "source": [
    "## The goal of this project is to generate new molecules"
   ]
  },
  {
   "cell_type": "markdown",
   "metadata": {
    "papermill": {
     "duration": 0.024409,
     "end_time": "2021-01-06T08:54:39.469921",
     "exception": false,
     "start_time": "2021-01-06T08:54:39.445512",
     "status": "completed"
    },
    "tags": []
   },
   "source": [
    "### Import required libraries"
   ]
  },
  {
   "cell_type": "code",
   "execution_count": 1,
   "metadata": {
    "execution": {
     "iopub.execute_input": "2021-01-06T08:54:39.529039Z",
     "iopub.status.busy": "2021-01-06T08:54:39.528356Z",
     "iopub.status.idle": "2021-01-06T08:54:45.626254Z",
     "shell.execute_reply": "2021-01-06T08:54:45.627130Z"
    },
    "executionInfo": {
     "elapsed": 2275,
     "status": "ok",
     "timestamp": 1590936989279,
     "user": {
      "displayName": "Brent Larzalere",
      "photoUrl": "https://lh3.googleusercontent.com/a-/AOh14GgI8CfxhQrguX3H8A4FuD7hkmexPHGUR2BYfGRiRA=s64",
      "userId": "06755738025051518189"
     },
     "user_tz": 300
    },
    "id": "efo1axACqmKV",
    "outputId": "9dba03f2-b9b9-4abf-e25c-7a72440fe48e",
    "papermill": {
     "duration": 6.133234,
     "end_time": "2021-01-06T08:54:45.627327",
     "exception": false,
     "start_time": "2021-01-06T08:54:39.494093",
     "status": "completed"
    },
    "tags": []
   },
   "outputs": [
    {
     "name": "stdout",
     "output_type": "stream",
     "text": [
      "TensorFlow version: 2.3.1\n"
     ]
    }
   ],
   "source": [
    "import sys\n",
    "import os\n",
    "import pandas as pd\n",
    "import numpy as np\n",
    "import json\n",
    "from sklearn.model_selection import train_test_split\n",
    "import random as rn\n",
    "import matplotlib.pyplot as plt\n",
    "%matplotlib inline\n",
    "\n",
    "\n",
    "import tensorflow as tf\n",
    "print(\"TensorFlow version:\", tf.__version__)"
   ]
  },
  {
   "cell_type": "markdown",
   "metadata": {
    "papermill": {
     "duration": 0.025263,
     "end_time": "2021-01-06T08:54:45.678840",
     "exception": false,
     "start_time": "2021-01-06T08:54:45.653577",
     "status": "completed"
    },
    "tags": []
   },
   "source": [
    "### load Keras libraries"
   ]
  },
  {
   "cell_type": "code",
   "execution_count": 2,
   "metadata": {
    "execution": {
     "iopub.execute_input": "2021-01-06T08:54:45.736173Z",
     "iopub.status.busy": "2021-01-06T08:54:45.735296Z",
     "iopub.status.idle": "2021-01-06T08:54:45.737914Z",
     "shell.execute_reply": "2021-01-06T08:54:45.738545Z"
    },
    "id": "GmPQgjZQr5DB",
    "papermill": {
     "duration": 0.03472,
     "end_time": "2021-01-06T08:54:45.738668",
     "exception": false,
     "start_time": "2021-01-06T08:54:45.703948",
     "status": "completed"
    },
    "tags": []
   },
   "outputs": [],
   "source": [
    "from tensorflow.keras.models import Model\n",
    "from tensorflow.keras.layers import Input, LSTM, Dense, Dropout, Concatenate\n",
    "from tensorflow.keras.initializers import RandomNormal\n",
    "from tensorflow.keras import regularizers\n",
    "from tensorflow.keras.optimizers import Adam\n",
    "from tensorflow.keras.callbacks import ReduceLROnPlateau, ModelCheckpoint, TensorBoard\n",
    "from tensorflow.keras.utils import Sequence"
   ]
  },
  {
   "cell_type": "markdown",
   "metadata": {
    "papermill": {
     "duration": 0.025573,
     "end_time": "2021-01-06T08:54:45.789422",
     "exception": false,
     "start_time": "2021-01-06T08:54:45.763849",
     "status": "completed"
    },
    "tags": []
   },
   "source": [
    "### create data load functions"
   ]
  },
  {
   "cell_type": "code",
   "execution_count": 3,
   "metadata": {
    "execution": {
     "iopub.execute_input": "2021-01-06T08:54:45.849686Z",
     "iopub.status.busy": "2021-01-06T08:54:45.848899Z",
     "iopub.status.idle": "2021-01-06T08:54:45.852055Z",
     "shell.execute_reply": "2021-01-06T08:54:45.851536Z"
    },
    "id": "drXCRY-sW3Jq",
    "papermill": {
     "duration": 0.03587,
     "end_time": "2021-01-06T08:54:45.852194",
     "exception": false,
     "start_time": "2021-01-06T08:54:45.816324",
     "status": "completed"
    },
    "tags": []
   },
   "outputs": [],
   "source": [
    "def load_data(data):\n",
    "    with open(data, 'r') as f:\n",
    "        smiles = [r.rstrip() for r in f]\n",
    "    return np.array(smiles)\n",
    "\n",
    "def load_dictionaries(input_dict):\n",
    "    with open(input_dict, 'r') as fp:\n",
    "        new_dict = json.load(fp)\n",
    "    return new_dict  "
   ]
  },
  {
   "cell_type": "code",
   "execution_count": 4,
   "metadata": {
    "execution": {
     "iopub.execute_input": "2021-01-06T08:54:45.910660Z",
     "iopub.status.busy": "2021-01-06T08:54:45.909761Z",
     "iopub.status.idle": "2021-01-06T08:54:45.913446Z",
     "shell.execute_reply": "2021-01-06T08:54:45.914027Z"
    },
    "papermill": {
     "duration": 0.036671,
     "end_time": "2021-01-06T08:54:45.914148",
     "exception": false,
     "start_time": "2021-01-06T08:54:45.877477",
     "status": "completed"
    },
    "tags": []
   },
   "outputs": [
    {
     "data": {
      "text/plain": [
       "{'divide': 'warn', 'over': 'warn', 'under': 'ignore', 'invalid': 'warn'}"
      ]
     },
     "execution_count": 4,
     "metadata": {},
     "output_type": "execute_result"
    }
   ],
   "source": [
    "## seed\n",
    "seed = 777\n",
    "np.random.seed(seed)\n",
    "rn.seed(seed)\n",
    "np.seterr(divide='ignore')"
   ]
  },
  {
   "cell_type": "markdown",
   "metadata": {
    "papermill": {
     "duration": 0.02629,
     "end_time": "2021-01-06T08:54:45.966806",
     "exception": false,
     "start_time": "2021-01-06T08:54:45.940516",
     "status": "completed"
    },
    "tags": []
   },
   "source": [
    "### load dataset & break into train/test sets"
   ]
  },
  {
   "cell_type": "code",
   "execution_count": 5,
   "metadata": {
    "execution": {
     "iopub.execute_input": "2021-01-06T08:54:46.025791Z",
     "iopub.status.busy": "2021-01-06T08:54:46.025087Z",
     "iopub.status.idle": "2021-01-06T08:54:46.940437Z",
     "shell.execute_reply": "2021-01-06T08:54:46.941390Z"
    },
    "executionInfo": {
     "elapsed": 1563,
     "status": "ok",
     "timestamp": 1590937040687,
     "user": {
      "displayName": "Brent Larzalere",
      "photoUrl": "https://lh3.googleusercontent.com/a-/AOh14GgI8CfxhQrguX3H8A4FuD7hkmexPHGUR2BYfGRiRA=s64",
      "userId": "06755738025051518189"
     },
     "user_tz": 300
    },
    "id": "tgUeN-xyQJjf",
    "outputId": "4ec6cc7d-bb92-4c1b-cd75-9fed469fe7f3",
    "papermill": {
     "duration": 0.948434,
     "end_time": "2021-01-06T08:54:46.941580",
     "exception": false,
     "start_time": "2021-01-06T08:54:45.993146",
     "status": "completed"
    },
    "tags": []
   },
   "outputs": [
    {
     "name": "stdout",
     "output_type": "stream",
     "text": [
      "Training smiles shape: (351278,)\n",
      "Test smiles shape: (87820,)\n",
      "Sample training smile: \n",
      " Cc1cc(Oc2ccc(-c3nc4cc(C(N)=O)ccc4[nH]3)cc2)ccc1F\n"
     ]
    }
   ],
   "source": [
    "smifile = '../input/data-zinc/smiles_cleaned.smi'\n",
    "data = load_data(smifile)\n",
    "full_train, test = train_test_split(data, test_size=0.2, random_state=seed)\n",
    "print(\"Training smiles shape:\", full_train.shape)\n",
    "print(\"Test smiles shape:\", test.shape)\n",
    "print(\"Sample training smile: \\n\", full_train[2])"
   ]
  },
  {
   "cell_type": "code",
   "execution_count": 6,
   "metadata": {
    "execution": {
     "iopub.execute_input": "2021-01-06T08:54:47.039322Z",
     "iopub.status.busy": "2021-01-06T08:54:47.038304Z",
     "iopub.status.idle": "2021-01-06T08:54:47.067318Z",
     "shell.execute_reply": "2021-01-06T08:54:47.068057Z"
    },
    "executionInfo": {
     "elapsed": 780,
     "status": "ok",
     "timestamp": 1590937059239,
     "user": {
      "displayName": "Brent Larzalere",
      "photoUrl": "https://lh3.googleusercontent.com/a-/AOh14GgI8CfxhQrguX3H8A4FuD7hkmexPHGUR2BYfGRiRA=s64",
      "userId": "06755738025051518189"
     },
     "user_tz": 300
    },
    "id": "3qT4hInqX6iv",
    "outputId": "6bcc8f9b-ab9f-4de8-f420-cc41e64cba6b",
    "papermill": {
     "duration": 0.098305,
     "end_time": "2021-01-06T08:54:47.068234",
     "exception": false,
     "start_time": "2021-01-06T08:54:46.969929",
     "status": "completed"
    },
    "tags": []
   },
   "outputs": [
    {
     "name": "stdout",
     "output_type": "stream",
     "text": [
      "Test file saved to disk\n"
     ]
    }
   ],
   "source": [
    "# save test file for smile generation\n",
    "np.save('test.npy', test)\n",
    "print('Test file saved to disk')"
   ]
  },
  {
   "cell_type": "markdown",
   "metadata": {
    "papermill": {
     "duration": 0.027357,
     "end_time": "2021-01-06T08:54:47.124816",
     "exception": false,
     "start_time": "2021-01-06T08:54:47.097459",
     "status": "completed"
    },
    "tags": []
   },
   "source": [
    "### create our validation dataset"
   ]
  },
  {
   "cell_type": "code",
   "execution_count": 7,
   "metadata": {
    "execution": {
     "iopub.execute_input": "2021-01-06T08:54:47.185123Z",
     "iopub.status.busy": "2021-01-06T08:54:47.184314Z",
     "iopub.status.idle": "2021-01-06T08:54:47.311445Z",
     "shell.execute_reply": "2021-01-06T08:54:47.312188Z"
    },
    "executionInfo": {
     "elapsed": 385,
     "status": "ok",
     "timestamp": 1590937065059,
     "user": {
      "displayName": "Brent Larzalere",
      "photoUrl": "https://lh3.googleusercontent.com/a-/AOh14GgI8CfxhQrguX3H8A4FuD7hkmexPHGUR2BYfGRiRA=s64",
      "userId": "06755738025051518189"
     },
     "user_tz": 300
    },
    "id": "HgI1A4sJXZun",
    "outputId": "43709c36-5060-4460-a574-9e0d1d69e80b",
    "papermill": {
     "duration": 0.160291,
     "end_time": "2021-01-06T08:54:47.312358",
     "exception": false,
     "start_time": "2021-01-06T08:54:47.152067",
     "status": "completed"
    },
    "tags": []
   },
   "outputs": [
    {
     "name": "stdout",
     "output_type": "stream",
     "text": [
      "Training dataset shape: (316150,)\n",
      "Validation dataset shape: (35128,)\n"
     ]
    }
   ],
   "source": [
    "val_split = 0.10\n",
    "train, val_set = train_test_split(full_train, test_size=val_split, random_state=seed)\n",
    "print(\"Training dataset shape:\", train.shape)\n",
    "print(\"Validation dataset shape:\", val_set.shape)"
   ]
  },
  {
   "cell_type": "markdown",
   "metadata": {
    "papermill": {
     "duration": 0.027624,
     "end_time": "2021-01-06T08:54:47.368437",
     "exception": false,
     "start_time": "2021-01-06T08:54:47.340813",
     "status": "completed"
    },
    "tags": []
   },
   "source": [
    "### load the Python dictionaries that map characters-to-integers and intergers-to-characters"
   ]
  },
  {
   "cell_type": "code",
   "execution_count": 8,
   "metadata": {
    "execution": {
     "iopub.execute_input": "2021-01-06T08:54:47.431271Z",
     "iopub.status.busy": "2021-01-06T08:54:47.430467Z",
     "iopub.status.idle": "2021-01-06T08:54:47.446037Z",
     "shell.execute_reply": "2021-01-06T08:54:47.446797Z"
    },
    "executionInfo": {
     "elapsed": 665,
     "status": "ok",
     "timestamp": 1590937082677,
     "user": {
      "displayName": "Brent Larzalere",
      "photoUrl": "https://lh3.googleusercontent.com/a-/AOh14GgI8CfxhQrguX3H8A4FuD7hkmexPHGUR2BYfGRiRA=s64",
      "userId": "06755738025051518189"
     },
     "user_tz": 300
    },
    "id": "_913qyu-YG7U",
    "outputId": "b6e9461f-0e37-4583-ae3b-f9ab0ab5a484",
    "papermill": {
     "duration": 0.04941,
     "end_time": "2021-01-06T08:54:47.446981",
     "exception": false,
     "start_time": "2021-01-06T08:54:47.397571",
     "status": "completed"
    },
    "tags": []
   },
   "outputs": [
    {
     "name": "stdout",
     "output_type": "stream",
     "text": [
      "Character set vocabulary length: 45\n",
      "Dictionary mapping characters-to-integers:\n",
      " {'n': 0, '[': 1, '\\\\': 2, 'E': 3, 'H': 4, ')': 5, 'B': 6, '9': 7, '2': 8, ']': 9, '7': 10, '!': 11, 't': 12, 's': 13, 'o': 14, 'c': 15, 'K': 16, '-': 17, '/': 18, 'l': 19, 'A': 20, 'r': 21, '@': 22, 'C': 23, '=': 24, '6': 25, 'N': 26, 'L': 27, 'a': 28, '5': 29, 'S': 30, 'T': 31, '#': 32, '+': 33, 'P': 34, 'i': 35, '(': 36, '8': 37, '1': 38, 'I': 39, 'e': 40, 'O': 41, '3': 42, 'F': 43, '4': 44}\n",
      "Dictionary mapping integers-to-characters:\n",
      " {'0': 'n', '1': '[', '2': '\\\\', '3': 'E', '4': 'H', '5': ')', '6': 'B', '7': '9', '8': '2', '9': ']', '10': '7', '11': '!', '12': 't', '13': 's', '14': 'o', '15': 'c', '16': 'K', '17': '-', '18': '/', '19': 'l', '20': 'A', '21': 'r', '22': '@', '23': 'C', '24': '=', '25': '6', '26': 'N', '27': 'L', '28': 'a', '29': '5', '30': 'S', '31': 'T', '32': '#', '33': '+', '34': 'P', '35': 'i', '36': '(', '37': '8', '38': '1', '39': 'I', '40': 'e', '41': 'O', '42': '3', '43': 'F', '44': '4'}\n"
     ]
    }
   ],
   "source": [
    "d1 = '../input/data-zinc/char_to_int.json'\n",
    "d2 = '../input/data-zinc/int_to_char.json'\n",
    "char_to_int = load_dictionaries(d1)\n",
    "int_to_char = load_dictionaries(d2)\n",
    "n_vocab = len(char_to_int)\n",
    "print(\"Character set vocabulary length:\", n_vocab)\n",
    "print(\"Dictionary mapping characters-to-integers:\\n\", char_to_int)\n",
    "print(\"Dictionary mapping integers-to-characters:\\n\", int_to_char)"
   ]
  },
  {
   "cell_type": "markdown",
   "metadata": {
    "papermill": {
     "duration": 0.028346,
     "end_time": "2021-01-06T08:54:47.504430",
     "exception": false,
     "start_time": "2021-01-06T08:54:47.476084",
     "status": "completed"
    },
    "tags": []
   },
   "source": [
    "### create a function to turn the dataset into a supervised problem, add the beginning and ending character markers, add padding for constant sequence length, and turn the sequence into a sequence of one-hot vectors"
   ]
  },
  {
   "cell_type": "code",
   "execution_count": 9,
   "metadata": {
    "execution": {
     "iopub.execute_input": "2021-01-06T08:54:47.573188Z",
     "iopub.status.busy": "2021-01-06T08:54:47.572443Z",
     "iopub.status.idle": "2021-01-06T08:54:47.577021Z",
     "shell.execute_reply": "2021-01-06T08:54:47.576435Z"
    },
    "id": "v8yne-_PYgT3",
    "papermill": {
     "duration": 0.043669,
     "end_time": "2021-01-06T08:54:47.577133",
     "exception": false,
     "start_time": "2021-01-06T08:54:47.533464",
     "status": "completed"
    },
    "tags": []
   },
   "outputs": [],
   "source": [
    "def vectorize(smiles, embed, n_vocab):\n",
    "    one_hot = np.zeros((smiles.shape[0], embed, n_vocab), dtype=np.int8)\n",
    "    for i, smile in enumerate(smiles):\n",
    "        # encode the start\n",
    "        one_hot[i,0,char_to_int[\"!\"]] = 1\n",
    "        #encode the smiles characters\n",
    "        for j, c in enumerate(smile):\n",
    "            one_hot[i,j+1,char_to_int[c]] = 1\n",
    "        # encode the end of the smiles string\n",
    "        one_hot[i,len(smile)+1:,char_to_int[\"E\"]] = 1\n",
    "    # return two items, one for input and one for output\n",
    "    return one_hot[:,0:-1,:], one_hot[:,1:,:]"
   ]
  },
  {
   "cell_type": "markdown",
   "metadata": {
    "papermill": {
     "duration": 0.028639,
     "end_time": "2021-01-06T08:54:47.635737",
     "exception": false,
     "start_time": "2021-01-06T08:54:47.607098",
     "status": "completed"
    },
    "tags": []
   },
   "source": [
    "### create our X & y datasets"
   ]
  },
  {
   "cell_type": "code",
   "execution_count": 10,
   "metadata": {
    "execution": {
     "iopub.execute_input": "2021-01-06T08:54:47.742973Z",
     "iopub.status.busy": "2021-01-06T08:54:47.727609Z",
     "iopub.status.idle": "2021-01-06T08:55:02.399530Z",
     "shell.execute_reply": "2021-01-06T08:55:02.398677Z"
    },
    "executionInfo": {
     "elapsed": 7344,
     "status": "ok",
     "timestamp": 1590937095895,
     "user": {
      "displayName": "Brent Larzalere",
      "photoUrl": "https://lh3.googleusercontent.com/a-/AOh14GgI8CfxhQrguX3H8A4FuD7hkmexPHGUR2BYfGRiRA=s64",
      "userId": "06755738025051518189"
     },
     "user_tz": 300
    },
    "id": "NDjptLnQYw1R",
    "outputId": "ed8aa35e-ca8a-44b1-ed89-10b22fcca66a",
    "papermill": {
     "duration": 14.73546,
     "end_time": "2021-01-06T08:55:02.399693",
     "exception": false,
     "start_time": "2021-01-06T08:54:47.664233",
     "status": "completed"
    },
    "tags": []
   },
   "outputs": [
    {
     "name": "stdout",
     "output_type": "stream",
     "text": [
      "Training input shape: (316150, 100, 45)\n",
      "Training output shape: (316150, 100, 45)\n",
      "Validation input shape: (35128, 100, 45)\n",
      "Validation output shape: (35128, 100, 45)\n",
      "Test input shape: (87820, 100, 45)\n",
      "Test output shape: (87820, 100, 45)\n"
     ]
    }
   ],
   "source": [
    "embed = 101\n",
    "X_train, y_train = vectorize(train, embed, n_vocab)\n",
    "X_val, y_val = vectorize(val_set, embed, n_vocab)\n",
    "X_test, y_test = vectorize(test, embed, n_vocab)\n",
    "print(\"Training input shape:\", X_train.shape)\n",
    "print(\"Training output shape:\", y_train.shape)\n",
    "print(\"Validation input shape:\", X_val.shape)\n",
    "print(\"Validation output shape:\", y_val.shape)\n",
    "print(\"Test input shape:\", X_test.shape)\n",
    "print(\"Test output shape:\", y_test.shape)"
   ]
  },
  {
   "cell_type": "markdown",
   "metadata": {
    "id": "ucLS4kJO0Sy2",
    "papermill": {
     "duration": 0.029597,
     "end_time": "2021-01-06T08:55:02.465135",
     "exception": false,
     "start_time": "2021-01-06T08:55:02.435538",
     "status": "completed"
    },
    "tags": []
   },
   "source": [
    "The int_to_char dictionary can be used to go from the vectorized form back to a readable SMILES string, with a joined list comprehension."
   ]
  },
  {
   "cell_type": "markdown",
   "metadata": {
    "papermill": {
     "duration": 0.033683,
     "end_time": "2021-01-06T08:55:02.527542",
     "exception": false,
     "start_time": "2021-01-06T08:55:02.493859",
     "status": "completed"
    },
    "tags": []
   },
   "source": [
    "### define the LSTM Chem model"
   ]
  },
  {
   "cell_type": "code",
   "execution_count": 11,
   "metadata": {
    "execution": {
     "iopub.execute_input": "2021-01-06T08:55:02.614102Z",
     "iopub.status.busy": "2021-01-06T08:55:02.611184Z",
     "iopub.status.idle": "2021-01-06T08:55:02.617252Z",
     "shell.execute_reply": "2021-01-06T08:55:02.616466Z"
    },
    "id": "_4o2i98EY1RM",
    "papermill": {
     "duration": 0.046195,
     "end_time": "2021-01-06T08:55:02.617376",
     "exception": false,
     "start_time": "2021-01-06T08:55:02.571181",
     "status": "completed"
    },
    "tags": []
   },
   "outputs": [],
   "source": [
    "def lstm_model(X, y):\n",
    "    # define the encoder layers\n",
    "    enc_input = Input(shape=(X.shape[1:]))\n",
    "    _, state_h, state_c = LSTM(256, return_state=True)(enc_input)\n",
    "    states = Concatenate(axis=-1)([state_h, state_c])\n",
    "    bottle_neck = Dense(128, activation='relu')(states)\n",
    "\n",
    "    # define the decoder layers\n",
    "    state_h_decoded = Dense(256, activation='relu')(bottle_neck)\n",
    "    state_c_decoded = Dense(256, activation='relu')(bottle_neck)\n",
    "    encoder_states = [state_h_decoded, state_c_decoded]\n",
    "    dec_input = Input(shape=(X.shape[1:]))\n",
    "    dec1 = LSTM(256, return_sequences=True)(dec_input, initial_state=encoder_states)\n",
    "    output = Dense(y.shape[2], activation='softmax')(dec1)\n",
    "    \n",
    "    model = Model(inputs=[enc_input, dec_input], outputs=output)   \n",
    "    return model "
   ]
  },
  {
   "cell_type": "markdown",
   "metadata": {
    "papermill": {
     "duration": 0.029386,
     "end_time": "2021-01-06T08:55:02.675174",
     "exception": false,
     "start_time": "2021-01-06T08:55:02.645788",
     "status": "completed"
    },
    "tags": []
   },
   "source": [
    "### instantiate our neural network model"
   ]
  },
  {
   "cell_type": "code",
   "execution_count": 12,
   "metadata": {
    "execution": {
     "iopub.execute_input": "2021-01-06T08:55:02.747805Z",
     "iopub.status.busy": "2021-01-06T08:55:02.747133Z",
     "iopub.status.idle": "2021-01-06T08:55:07.022197Z",
     "shell.execute_reply": "2021-01-06T08:55:07.021688Z"
    },
    "executionInfo": {
     "elapsed": 1065,
     "status": "ok",
     "timestamp": 1590937109372,
     "user": {
      "displayName": "Brent Larzalere",
      "photoUrl": "https://lh3.googleusercontent.com/a-/AOh14GgI8CfxhQrguX3H8A4FuD7hkmexPHGUR2BYfGRiRA=s64",
      "userId": "06755738025051518189"
     },
     "user_tz": 300
    },
    "id": "wQlf38jXZEJ3",
    "outputId": "70ba7f2d-a9bd-4ca8-844c-82eeec9f7bf3",
    "papermill": {
     "duration": 4.309858,
     "end_time": "2021-01-06T08:55:07.022328",
     "exception": false,
     "start_time": "2021-01-06T08:55:02.712470",
     "status": "completed"
    },
    "tags": []
   },
   "outputs": [
    {
     "name": "stdout",
     "output_type": "stream",
     "text": [
      "Model: \"functional_1\"\n",
      "__________________________________________________________________________________________________\n",
      "Layer (type)                    Output Shape         Param #     Connected to                     \n",
      "==================================================================================================\n",
      "input_1 (InputLayer)            [(None, 100, 45)]    0                                            \n",
      "__________________________________________________________________________________________________\n",
      "lstm (LSTM)                     [(None, 256), (None, 309248      input_1[0][0]                    \n",
      "__________________________________________________________________________________________________\n",
      "concatenate (Concatenate)       (None, 512)          0           lstm[0][1]                       \n",
      "                                                                 lstm[0][2]                       \n",
      "__________________________________________________________________________________________________\n",
      "dense (Dense)                   (None, 128)          65664       concatenate[0][0]                \n",
      "__________________________________________________________________________________________________\n",
      "input_2 (InputLayer)            [(None, 100, 45)]    0                                            \n",
      "__________________________________________________________________________________________________\n",
      "dense_1 (Dense)                 (None, 256)          33024       dense[0][0]                      \n",
      "__________________________________________________________________________________________________\n",
      "dense_2 (Dense)                 (None, 256)          33024       dense[0][0]                      \n",
      "__________________________________________________________________________________________________\n",
      "lstm_1 (LSTM)                   (None, 100, 256)     309248      input_2[0][0]                    \n",
      "                                                                 dense_1[0][0]                    \n",
      "                                                                 dense_2[0][0]                    \n",
      "__________________________________________________________________________________________________\n",
      "dense_3 (Dense)                 (None, 100, 45)      11565       lstm_1[0][0]                     \n",
      "==================================================================================================\n",
      "Total params: 761,773\n",
      "Trainable params: 761,773\n",
      "Non-trainable params: 0\n",
      "__________________________________________________________________________________________________\n"
     ]
    }
   ],
   "source": [
    "model = lstm_model(X_train, y_train)\n",
    "model.summary()"
   ]
  },
  {
   "cell_type": "markdown",
   "metadata": {
    "papermill": {
     "duration": 0.038244,
     "end_time": "2021-01-06T08:55:07.089967",
     "exception": false,
     "start_time": "2021-01-06T08:55:07.051723",
     "status": "completed"
    },
    "tags": []
   },
   "source": [
    "### compile the model"
   ]
  },
  {
   "cell_type": "code",
   "execution_count": 13,
   "metadata": {
    "execution": {
     "iopub.execute_input": "2021-01-06T08:55:07.172310Z",
     "iopub.status.busy": "2021-01-06T08:55:07.171334Z",
     "iopub.status.idle": "2021-01-06T08:55:07.178776Z",
     "shell.execute_reply": "2021-01-06T08:55:07.179271Z"
    },
    "id": "zC1cCnSTZH94",
    "papermill": {
     "duration": 0.058141,
     "end_time": "2021-01-06T08:55:07.179403",
     "exception": false,
     "start_time": "2021-01-06T08:55:07.121262",
     "status": "completed"
    },
    "tags": []
   },
   "outputs": [],
   "source": [
    "batch_size = 512\n",
    "steps_per_epoch = len(X_train) // batch_size\n",
    "lr_schedule = tf.keras.optimizers.schedules.InverseTimeDecay(0.001, decay_steps=steps_per_epoch*50, decay_rate=1.0, staircase=False)\n",
    "opt = Adam()\n",
    "model.compile(optimizer=opt, loss='categorical_crossentropy', metrics=['acc'])"
   ]
  },
  {
   "cell_type": "markdown",
   "metadata": {
    "papermill": {
     "duration": 0.031128,
     "end_time": "2021-01-06T08:55:07.241244",
     "exception": false,
     "start_time": "2021-01-06T08:55:07.210116",
     "status": "completed"
    },
    "tags": []
   },
   "source": [
    "### define our data sequence generator class"
   ]
  },
  {
   "cell_type": "code",
   "execution_count": 14,
   "metadata": {
    "execution": {
     "iopub.execute_input": "2021-01-06T08:55:07.312602Z",
     "iopub.status.busy": "2021-01-06T08:55:07.311841Z",
     "iopub.status.idle": "2021-01-06T08:55:07.315451Z",
     "shell.execute_reply": "2021-01-06T08:55:07.314953Z"
    },
    "id": "MwVVhWWxeW0Q",
    "papermill": {
     "duration": 0.042995,
     "end_time": "2021-01-06T08:55:07.315551",
     "exception": false,
     "start_time": "2021-01-06T08:55:07.272556",
     "status": "completed"
    },
    "tags": []
   },
   "outputs": [],
   "source": [
    "class Data_Generator(Sequence):\n",
    "    def __init__(self, input_data, labels, batch_size):\n",
    "        self.input_data, self.labels = input_data, labels\n",
    "        self.batch_size = batch_size\n",
    "    \n",
    "    def __len__(self):\n",
    "        return int(np.ceil(len(self.input_data) / float(self.batch_size)))\n",
    "    \n",
    "    def __getitem__(self, idx):\n",
    "        x = self.input_data[idx * self.batch_size:(idx + 1) * self.batch_size]\n",
    "        y = self.labels[idx * self.batch_size:(idx + 1) * self.batch_size]\n",
    "        \n",
    "        batch_x, batch_y = np.array(x), np.array(y)\n",
    "        \n",
    "        return [batch_x, batch_x], batch_y"
   ]
  },
  {
   "cell_type": "markdown",
   "metadata": {
    "papermill": {
     "duration": 0.030507,
     "end_time": "2021-01-06T08:55:07.376759",
     "exception": false,
     "start_time": "2021-01-06T08:55:07.346252",
     "status": "completed"
    },
    "tags": []
   },
   "source": [
    "### create object instances of our sequence generator"
   ]
  },
  {
   "cell_type": "code",
   "execution_count": 15,
   "metadata": {
    "execution": {
     "iopub.execute_input": "2021-01-06T08:55:07.442435Z",
     "iopub.status.busy": "2021-01-06T08:55:07.441750Z",
     "iopub.status.idle": "2021-01-06T08:55:07.446273Z",
     "shell.execute_reply": "2021-01-06T08:55:07.445737Z"
    },
    "id": "qo_vOMBGeXry",
    "papermill": {
     "duration": 0.03948,
     "end_time": "2021-01-06T08:55:07.446405",
     "exception": false,
     "start_time": "2021-01-06T08:55:07.406925",
     "status": "completed"
    },
    "tags": []
   },
   "outputs": [],
   "source": [
    "training_generator = Data_Generator(X_train, y_train, batch_size)\n",
    "validation_generator = Data_Generator(X_val, y_val, batch_size)"
   ]
  },
  {
   "cell_type": "markdown",
   "metadata": {
    "papermill": {
     "duration": 0.030166,
     "end_time": "2021-01-06T08:55:07.506284",
     "exception": false,
     "start_time": "2021-01-06T08:55:07.476118",
     "status": "completed"
    },
    "tags": []
   },
   "source": [
    "### Create our callbacks"
   ]
  },
  {
   "cell_type": "code",
   "execution_count": 16,
   "metadata": {
    "execution": {
     "iopub.execute_input": "2021-01-06T08:55:07.579329Z",
     "iopub.status.busy": "2021-01-06T08:55:07.578101Z",
     "iopub.status.idle": "2021-01-06T08:55:07.580812Z",
     "shell.execute_reply": "2021-01-06T08:55:07.581971Z"
    },
    "id": "hjbpFVBHZU6q",
    "papermill": {
     "duration": 0.04483,
     "end_time": "2021-01-06T08:55:07.582104",
     "exception": false,
     "start_time": "2021-01-06T08:55:07.537274",
     "status": "completed"
    },
    "tags": []
   },
   "outputs": [],
   "source": [
    "file=\"LSTM_Chem_weights-{epoch:02d}-{acc:.4f}-{val_loss:.4f}.hdf5\"\n",
    "checkpoint = ModelCheckpoint(file, monitor='val_loss', verbose=1, save_best_only=True, save_weights_only=True, mode='min')\n",
    "rlrp = ReduceLROnPlateau(monitor='val_loss', factor=0.5, patience=10, min_lr=1e-5)"
   ]
  },
  {
   "cell_type": "markdown",
   "metadata": {
    "papermill": {
     "duration": 0.030101,
     "end_time": "2021-01-06T08:55:07.644019",
     "exception": false,
     "start_time": "2021-01-06T08:55:07.613918",
     "status": "completed"
    },
    "tags": []
   },
   "source": [
    "### fit the model"
   ]
  },
  {
   "cell_type": "code",
   "execution_count": 17,
   "metadata": {
    "execution": {
     "iopub.execute_input": "2021-01-06T08:55:07.712469Z",
     "iopub.status.busy": "2021-01-06T08:55:07.711826Z",
     "iopub.status.idle": "2021-01-06T10:08:41.207193Z",
     "shell.execute_reply": "2021-01-06T10:08:41.135178Z"
    },
    "executionInfo": {
     "elapsed": 11392644,
     "status": "ok",
     "timestamp": 1590948536220,
     "user": {
      "displayName": "Brent Larzalere",
      "photoUrl": "https://lh3.googleusercontent.com/a-/AOh14GgI8CfxhQrguX3H8A4FuD7hkmexPHGUR2BYfGRiRA=s64",
      "userId": "06755738025051518189"
     },
     "user_tz": 300
    },
    "id": "LBVP5GRNgUK-",
    "outputId": "dd92e94f-fdbb-4b6e-a5a4-7d72aa714ced",
    "papermill": {
     "duration": 4413.531973,
     "end_time": "2021-01-06T10:08:41.207343",
     "exception": false,
     "start_time": "2021-01-06T08:55:07.675370",
     "status": "completed"
    },
    "tags": []
   },
   "outputs": [
    {
     "name": "stdout",
     "output_type": "stream",
     "text": [
      "Epoch 1/100\n",
      "617/617 [==============================] - 44s 71ms/step - loss: 0.9834 - acc: 0.7041 - val_loss: 0.6575 - val_acc: 0.7857\n",
      "Epoch 2/100\n",
      "617/617 [==============================] - 43s 70ms/step - loss: 0.5957 - acc: 0.8034 - val_loss: 0.5467 - val_acc: 0.8185\n",
      "Epoch 3/100\n",
      "617/617 [==============================] - 43s 70ms/step - loss: 0.5158 - acc: 0.8268 - val_loss: 0.5127 - val_acc: 0.8262\n",
      "Epoch 4/100\n",
      "617/617 [==============================] - 44s 71ms/step - loss: 0.4737 - acc: 0.8385 - val_loss: 0.4645 - val_acc: 0.8410\n",
      "Epoch 5/100\n",
      "617/617 [==============================] - 43s 70ms/step - loss: 0.4464 - acc: 0.8464 - val_loss: 0.4338 - val_acc: 0.8501\n",
      "Epoch 6/100\n",
      "617/617 [==============================] - 43s 70ms/step - loss: 0.4263 - acc: 0.8524 - val_loss: 0.4187 - val_acc: 0.8544\n",
      "Epoch 7/100\n",
      "617/617 [==============================] - 43s 70ms/step - loss: 0.4108 - acc: 0.8571 - val_loss: 0.4216 - val_acc: 0.8525\n",
      "Epoch 8/100\n",
      "617/617 [==============================] - 43s 70ms/step - loss: 0.3980 - acc: 0.8610 - val_loss: 0.3925 - val_acc: 0.8626\n",
      "Epoch 9/100\n",
      "617/617 [==============================] - 43s 70ms/step - loss: 0.3876 - acc: 0.8641 - val_loss: 0.3807 - val_acc: 0.8664\n",
      "Epoch 10/100\n",
      "617/617 [==============================] - 43s 70ms/step - loss: 0.3774 - acc: 0.8673 - val_loss: 0.3723 - val_acc: 0.8690\n",
      "Epoch 11/100\n",
      "617/617 [==============================] - 44s 71ms/step - loss: 0.3701 - acc: 0.8697 - val_loss: 0.4438 - val_acc: 0.8535\n",
      "Epoch 12/100\n",
      "617/617 [==============================] - 43s 70ms/step - loss: 0.3636 - acc: 0.8718 - val_loss: 0.3583 - val_acc: 0.8738\n",
      "Epoch 13/100\n",
      "617/617 [==============================] - 43s 70ms/step - loss: 0.3578 - acc: 0.8737 - val_loss: 0.3522 - val_acc: 0.8758\n",
      "Epoch 14/100\n",
      "617/617 [==============================] - 43s 70ms/step - loss: 0.3462 - acc: 0.8781 - val_loss: 0.3348 - val_acc: 0.8822\n",
      "Epoch 15/100\n",
      "617/617 [==============================] - 43s 70ms/step - loss: 0.3335 - acc: 0.8828 - val_loss: 0.3243 - val_acc: 0.8864\n",
      "Epoch 16/100\n",
      "617/617 [==============================] - 50s 81ms/step - loss: 0.3147 - acc: 0.8901 - val_loss: 0.3210 - val_acc: 0.8878\n",
      "Epoch 17/100\n",
      "617/617 [==============================] - 50s 81ms/step - loss: 0.3030 - acc: 0.8944 - val_loss: 0.3053 - val_acc: 0.8934\n",
      "Epoch 18/100\n",
      "617/617 [==============================] - 51s 83ms/step - loss: 0.2905 - acc: 0.8992 - val_loss: 0.2824 - val_acc: 0.9025\n",
      "Epoch 19/100\n",
      "617/617 [==============================] - 44s 71ms/step - loss: 0.2816 - acc: 0.9026 - val_loss: 0.2805 - val_acc: 0.9030\n",
      "Epoch 20/100\n",
      "617/617 [==============================] - 43s 70ms/step - loss: 0.2731 - acc: 0.9057 - val_loss: 0.2927 - val_acc: 0.8983\n",
      "Epoch 21/100\n",
      "617/617 [==============================] - 43s 70ms/step - loss: 0.2668 - acc: 0.9080 - val_loss: 0.2626 - val_acc: 0.9097\n",
      "Epoch 22/100\n",
      "617/617 [==============================] - 43s 70ms/step - loss: 0.2610 - acc: 0.9101 - val_loss: 0.2592 - val_acc: 0.9109\n",
      "Epoch 23/100\n",
      "617/617 [==============================] - 43s 70ms/step - loss: 0.2561 - acc: 0.9119 - val_loss: 0.2559 - val_acc: 0.9120\n",
      "Epoch 24/100\n",
      "617/617 [==============================] - 43s 70ms/step - loss: 0.2525 - acc: 0.9132 - val_loss: 0.2534 - val_acc: 0.9126\n",
      "Epoch 25/100\n",
      "617/617 [==============================] - 43s 70ms/step - loss: 0.2499 - acc: 0.9142 - val_loss: 0.2474 - val_acc: 0.9153\n",
      "Epoch 26/100\n",
      "617/617 [==============================] - 43s 70ms/step - loss: 0.2449 - acc: 0.9160 - val_loss: 0.2455 - val_acc: 0.9160\n",
      "Epoch 27/100\n",
      "617/617 [==============================] - 43s 70ms/step - loss: 0.2399 - acc: 0.9178 - val_loss: 0.2372 - val_acc: 0.9189\n",
      "Epoch 28/100\n",
      "617/617 [==============================] - 43s 70ms/step - loss: 0.2352 - acc: 0.9194 - val_loss: 0.2352 - val_acc: 0.9195\n",
      "Epoch 29/100\n",
      "617/617 [==============================] - 43s 70ms/step - loss: 0.2311 - acc: 0.9209 - val_loss: 0.2360 - val_acc: 0.9192\n",
      "Epoch 30/100\n",
      "617/617 [==============================] - 44s 71ms/step - loss: 0.2265 - acc: 0.9226 - val_loss: 0.2245 - val_acc: 0.9236\n",
      "Epoch 31/100\n",
      "617/617 [==============================] - 43s 69ms/step - loss: 0.2246 - acc: 0.9233 - val_loss: 0.2216 - val_acc: 0.9248\n",
      "Epoch 32/100\n",
      "617/617 [==============================] - 43s 70ms/step - loss: 0.2186 - acc: 0.9254 - val_loss: 0.2173 - val_acc: 0.9261\n",
      "Epoch 33/100\n",
      "617/617 [==============================] - 44s 71ms/step - loss: 0.2149 - acc: 0.9267 - val_loss: 0.2149 - val_acc: 0.9268\n",
      "Epoch 34/100\n",
      "617/617 [==============================] - 43s 70ms/step - loss: 0.2118 - acc: 0.9278 - val_loss: 0.2121 - val_acc: 0.9276\n",
      "Epoch 35/100\n",
      "617/617 [==============================] - 43s 70ms/step - loss: 0.2078 - acc: 0.9292 - val_loss: 0.2117 - val_acc: 0.9278\n",
      "Epoch 36/100\n",
      "617/617 [==============================] - 44s 71ms/step - loss: 0.2059 - acc: 0.9299 - val_loss: 0.2053 - val_acc: 0.9304\n",
      "Epoch 37/100\n",
      "617/617 [==============================] - 43s 70ms/step - loss: 0.2028 - acc: 0.9309 - val_loss: 0.2083 - val_acc: 0.9288\n",
      "Epoch 38/100\n",
      "617/617 [==============================] - 43s 70ms/step - loss: 0.2001 - acc: 0.9318 - val_loss: 0.2065 - val_acc: 0.9293\n",
      "Epoch 39/100\n",
      "617/617 [==============================] - 43s 70ms/step - loss: 0.1967 - acc: 0.9330 - val_loss: 0.1953 - val_acc: 0.9339\n",
      "Epoch 40/100\n",
      "617/617 [==============================] - 43s 70ms/step - loss: 0.1953 - acc: 0.9335 - val_loss: 0.1978 - val_acc: 0.9327\n",
      "Epoch 41/100\n",
      "617/617 [==============================] - 43s 70ms/step - loss: 0.1939 - acc: 0.9341 - val_loss: 0.1913 - val_acc: 0.9352\n",
      "Epoch 42/100\n",
      "617/617 [==============================] - 43s 70ms/step - loss: 0.1912 - acc: 0.9349 - val_loss: 0.1907 - val_acc: 0.9353\n",
      "Epoch 43/100\n",
      "617/617 [==============================] - 43s 70ms/step - loss: 0.1889 - acc: 0.9357 - val_loss: 0.2150 - val_acc: 0.9275\n",
      "Epoch 44/100\n",
      "617/617 [==============================] - 43s 70ms/step - loss: 0.1867 - acc: 0.9363 - val_loss: 0.1888 - val_acc: 0.9356\n",
      "Epoch 45/100\n",
      "617/617 [==============================] - 44s 71ms/step - loss: 0.1834 - acc: 0.9375 - val_loss: 0.1833 - val_acc: 0.9379\n",
      "Epoch 46/100\n",
      "617/617 [==============================] - 43s 70ms/step - loss: 0.1807 - acc: 0.9385 - val_loss: 0.1842 - val_acc: 0.9371\n",
      "Epoch 47/100\n",
      "617/617 [==============================] - 43s 70ms/step - loss: 0.1766 - acc: 0.9399 - val_loss: 0.1765 - val_acc: 0.9402\n",
      "Epoch 48/100\n",
      "617/617 [==============================] - 44s 71ms/step - loss: 0.1742 - acc: 0.9407 - val_loss: 0.1835 - val_acc: 0.9373\n",
      "Epoch 49/100\n",
      "617/617 [==============================] - 50s 80ms/step - loss: 0.1721 - acc: 0.9415 - val_loss: 0.1710 - val_acc: 0.9420\n",
      "Epoch 50/100\n",
      "617/617 [==============================] - 49s 79ms/step - loss: 0.1692 - acc: 0.9426 - val_loss: 0.1888 - val_acc: 0.9353\n",
      "Epoch 51/100\n",
      "617/617 [==============================] - 52s 84ms/step - loss: 0.1667 - acc: 0.9434 - val_loss: 0.1671 - val_acc: 0.9436\n",
      "Epoch 52/100\n",
      "617/617 [==============================] - 44s 72ms/step - loss: 0.1637 - acc: 0.9444 - val_loss: 0.1755 - val_acc: 0.9396\n",
      "Epoch 53/100\n",
      "617/617 [==============================] - 43s 70ms/step - loss: 0.1607 - acc: 0.9454 - val_loss: 0.1613 - val_acc: 0.9453\n",
      "Epoch 54/100\n",
      "617/617 [==============================] - 43s 70ms/step - loss: 0.1575 - acc: 0.9466 - val_loss: 0.1607 - val_acc: 0.9455\n",
      "Epoch 55/100\n",
      "617/617 [==============================] - 43s 70ms/step - loss: 0.1534 - acc: 0.9479 - val_loss: 0.1597 - val_acc: 0.9458\n",
      "Epoch 56/100\n",
      "617/617 [==============================] - 43s 70ms/step - loss: 0.1505 - acc: 0.9490 - val_loss: 0.1559 - val_acc: 0.9468\n",
      "Epoch 57/100\n",
      "617/617 [==============================] - 44s 71ms/step - loss: 0.1476 - acc: 0.9500 - val_loss: 0.1488 - val_acc: 0.9495\n",
      "Epoch 58/100\n",
      "617/617 [==============================] - 43s 70ms/step - loss: 0.1442 - acc: 0.9511 - val_loss: 0.1428 - val_acc: 0.9520\n",
      "Epoch 59/100\n",
      "617/617 [==============================] - 43s 70ms/step - loss: 0.1430 - acc: 0.9517 - val_loss: 0.1451 - val_acc: 0.9512\n",
      "Epoch 60/100\n",
      "617/617 [==============================] - 44s 71ms/step - loss: 0.1393 - acc: 0.9528 - val_loss: 0.1381 - val_acc: 0.9538\n",
      "Epoch 61/100\n",
      "617/617 [==============================] - 43s 70ms/step - loss: 0.1369 - acc: 0.9536 - val_loss: 0.1416 - val_acc: 0.9518\n",
      "Epoch 62/100\n",
      "617/617 [==============================] - 43s 70ms/step - loss: 0.1343 - acc: 0.9546 - val_loss: 0.1339 - val_acc: 0.9551\n",
      "Epoch 63/100\n",
      "617/617 [==============================] - 44s 71ms/step - loss: 0.1328 - acc: 0.9551 - val_loss: 0.1330 - val_acc: 0.9551\n",
      "Epoch 64/100\n",
      "617/617 [==============================] - 47s 77ms/step - loss: 0.1317 - acc: 0.9556 - val_loss: 0.1358 - val_acc: 0.9541\n",
      "Epoch 65/100\n",
      "617/617 [==============================] - 43s 70ms/step - loss: 0.1274 - acc: 0.9570 - val_loss: 0.1310 - val_acc: 0.9559\n",
      "Epoch 66/100\n",
      "617/617 [==============================] - 43s 70ms/step - loss: 0.1262 - acc: 0.9573 - val_loss: 0.1290 - val_acc: 0.9565\n",
      "Epoch 67/100\n",
      "617/617 [==============================] - 43s 70ms/step - loss: 0.1245 - acc: 0.9580 - val_loss: 0.1256 - val_acc: 0.9576\n",
      "Epoch 68/100\n",
      "617/617 [==============================] - 43s 70ms/step - loss: 0.1219 - acc: 0.9588 - val_loss: 0.1235 - val_acc: 0.9587\n",
      "Epoch 69/100\n",
      "617/617 [==============================] - 43s 70ms/step - loss: 0.1198 - acc: 0.9596 - val_loss: 0.1261 - val_acc: 0.9577\n",
      "Epoch 70/100\n",
      "617/617 [==============================] - 44s 71ms/step - loss: 0.1161 - acc: 0.9609 - val_loss: 0.1236 - val_acc: 0.9582\n",
      "Epoch 71/100\n",
      "617/617 [==============================] - 44s 71ms/step - loss: 0.1161 - acc: 0.9608 - val_loss: 0.1222 - val_acc: 0.9587\n",
      "Epoch 72/100\n",
      "617/617 [==============================] - 43s 70ms/step - loss: 0.1131 - acc: 0.9619 - val_loss: 0.1151 - val_acc: 0.9613\n",
      "Epoch 73/100\n",
      "617/617 [==============================] - 43s 70ms/step - loss: 0.1099 - acc: 0.9630 - val_loss: 0.1124 - val_acc: 0.9623\n",
      "Epoch 74/100\n",
      "617/617 [==============================] - 44s 71ms/step - loss: 0.1091 - acc: 0.9633 - val_loss: 0.1176 - val_acc: 0.9603\n",
      "Epoch 75/100\n",
      "617/617 [==============================] - 44s 71ms/step - loss: 0.1062 - acc: 0.9642 - val_loss: 0.1088 - val_acc: 0.9634\n",
      "Epoch 76/100\n",
      "617/617 [==============================] - 44s 71ms/step - loss: 0.1054 - acc: 0.9646 - val_loss: 0.1073 - val_acc: 0.9640\n",
      "Epoch 77/100\n",
      "617/617 [==============================] - 43s 70ms/step - loss: 0.1005 - acc: 0.9662 - val_loss: 0.1092 - val_acc: 0.9632\n",
      "Epoch 78/100\n",
      "617/617 [==============================] - 43s 70ms/step - loss: 0.0993 - acc: 0.9666 - val_loss: 0.1031 - val_acc: 0.9653\n",
      "Epoch 79/100\n",
      "617/617 [==============================] - 43s 70ms/step - loss: 0.0972 - acc: 0.9674 - val_loss: 0.1009 - val_acc: 0.9661\n",
      "Epoch 80/100\n",
      "617/617 [==============================] - 43s 70ms/step - loss: 0.0948 - acc: 0.9682 - val_loss: 0.0983 - val_acc: 0.9671\n",
      "Epoch 81/100\n",
      "617/617 [==============================] - 43s 70ms/step - loss: 0.0944 - acc: 0.9684 - val_loss: 0.0948 - val_acc: 0.9683\n",
      "Epoch 82/100\n",
      "617/617 [==============================] - 44s 72ms/step - loss: 0.0911 - acc: 0.9694 - val_loss: 0.0947 - val_acc: 0.9684\n",
      "Epoch 83/100\n",
      "617/617 [==============================] - 43s 70ms/step - loss: 0.0890 - acc: 0.9703 - val_loss: 0.0929 - val_acc: 0.9689\n",
      "Epoch 84/100\n",
      "617/617 [==============================] - 43s 70ms/step - loss: 0.1066 - acc: 0.9649 - val_loss: 0.0956 - val_acc: 0.9679\n",
      "Epoch 85/100\n",
      "617/617 [==============================] - 43s 70ms/step - loss: 0.0859 - acc: 0.9712 - val_loss: 0.0932 - val_acc: 0.9685\n",
      "Epoch 86/100\n",
      "617/617 [==============================] - 43s 70ms/step - loss: 0.0879 - acc: 0.9707 - val_loss: 0.0855 - val_acc: 0.9717\n",
      "Epoch 87/100\n",
      "617/617 [==============================] - 43s 69ms/step - loss: 0.0824 - acc: 0.9725 - val_loss: 0.0874 - val_acc: 0.9710\n",
      "Epoch 88/100\n",
      "617/617 [==============================] - 44s 72ms/step - loss: 0.0793 - acc: 0.9736 - val_loss: 0.1262 - val_acc: 0.9568\n",
      "Epoch 89/100\n",
      "617/617 [==============================] - 43s 70ms/step - loss: 0.0792 - acc: 0.9736 - val_loss: 0.0858 - val_acc: 0.9710\n",
      "Epoch 90/100\n",
      "617/617 [==============================] - 43s 70ms/step - loss: 0.0794 - acc: 0.9738 - val_loss: 0.0804 - val_acc: 0.9732\n",
      "Epoch 91/100\n",
      "617/617 [==============================] - 43s 69ms/step - loss: 0.0737 - acc: 0.9755 - val_loss: 0.0755 - val_acc: 0.9751\n",
      "Epoch 92/100\n",
      "617/617 [==============================] - 43s 70ms/step - loss: 0.0746 - acc: 0.9752 - val_loss: 0.0806 - val_acc: 0.9732\n",
      "Epoch 93/100\n",
      "617/617 [==============================] - 43s 70ms/step - loss: 0.0703 - acc: 0.9766 - val_loss: 0.0741 - val_acc: 0.9755\n",
      "Epoch 94/100\n",
      "617/617 [==============================] - 44s 71ms/step - loss: 0.0734 - acc: 0.9757 - val_loss: 0.0738 - val_acc: 0.9755\n",
      "Epoch 95/100\n",
      "617/617 [==============================] - 44s 71ms/step - loss: 0.0676 - acc: 0.9777 - val_loss: 0.0714 - val_acc: 0.9763\n",
      "Epoch 96/100\n",
      "617/617 [==============================] - 43s 70ms/step - loss: 0.0716 - acc: 0.9766 - val_loss: 0.0664 - val_acc: 0.9783\n",
      "Epoch 97/100\n",
      "617/617 [==============================] - 43s 69ms/step - loss: 0.0668 - acc: 0.9779 - val_loss: 0.0775 - val_acc: 0.9743\n",
      "Epoch 98/100\n",
      "617/617 [==============================] - 43s 70ms/step - loss: 0.0617 - acc: 0.9796 - val_loss: 0.0661 - val_acc: 0.9783\n",
      "Epoch 99/100\n",
      "617/617 [==============================] - 43s 70ms/step - loss: 0.0718 - acc: 0.9767 - val_loss: 0.0621 - val_acc: 0.9799\n",
      "Epoch 100/100\n",
      "617/617 [==============================] - 44s 71ms/step - loss: 0.0595 - acc: 0.9803 - val_loss: 0.0656 - val_acc: 0.9784\n"
     ]
    }
   ],
   "source": [
    "nb_epochs = 100\n",
    "validation_steps = len(X_val) // batch_size\n",
    "history = model.fit(training_generator, steps_per_epoch=steps_per_epoch, epochs=nb_epochs, verbose=1, \n",
    "                              validation_data=validation_generator, validation_steps=validation_steps, \n",
    "                             use_multiprocessing=False, shuffle=True, callbacks=[])"
   ]
  },
  {
   "cell_type": "markdown",
   "metadata": {
    "papermill": {
     "duration": 24.435607,
     "end_time": "2021-01-06T10:09:30.070825",
     "exception": false,
     "start_time": "2021-01-06T10:09:05.635218",
     "status": "completed"
    },
    "tags": []
   },
   "source": [
    "### plot the model loss and accuracy"
   ]
  },
  {
   "cell_type": "code",
   "execution_count": 18,
   "metadata": {
    "execution": {
     "iopub.execute_input": "2021-01-06T10:10:19.696544Z",
     "iopub.status.busy": "2021-01-06T10:10:19.695795Z",
     "iopub.status.idle": "2021-01-06T10:10:20.108526Z",
     "shell.execute_reply": "2021-01-06T10:10:20.109021Z"
    },
    "executionInfo": {
     "elapsed": 2035733,
     "status": "ok",
     "timestamp": 1590948537497,
     "user": {
      "displayName": "Brent Larzalere",
      "photoUrl": "https://lh3.googleusercontent.com/a-/AOh14GgI8CfxhQrguX3H8A4FuD7hkmexPHGUR2BYfGRiRA=s64",
      "userId": "06755738025051518189"
     },
     "user_tz": 300
    },
    "id": "fLqW_uJh-_m3",
    "outputId": "4340c7dd-800e-419e-8809-c150475d4f07",
    "papermill": {
     "duration": 25.421697,
     "end_time": "2021-01-06T10:10:20.109153",
     "exception": false,
     "start_time": "2021-01-06T10:09:54.687456",
     "status": "completed"
    },
    "tags": []
   },
   "outputs": [
    {
     "data": {
      "image/png": "[encoded data removed]",
      "text/plain": [
       "<Figure size 1152x432 with 2 Axes>"
      ]
     },
     "metadata": {
      "needs_background": "light"
     },
     "output_type": "display_data"
    }
   ],
   "source": [
    "fig, (axis1, axis2) = plt.subplots(nrows=1, ncols=2, figsize=(16,6))\n",
    "\n",
    "# summarize history for accuracy\n",
    "axis1.plot(history.history[\"acc\"], label='Train', linewidth=3)\n",
    "axis1.plot(history.history[\"val_acc\"], label='Validation', linewidth=3)\n",
    "axis1.set_title('Model accuracy', fontsize=16, color=\"white\")\n",
    "axis1.set_ylabel('accuracy')\n",
    "axis1.set_xlabel('epoch')\n",
    "axis1.legend(loc='lower right')\n",
    "\n",
    "# summarize history for loss\n",
    "axis2.plot(history.history[\"loss\"], label='Train', linewidth=3)\n",
    "axis2.plot(history.history[\"val_loss\"], label='Validation', linewidth=3)\n",
    "axis2.set_title('Model loss', fontsize=16, color=\"white\")\n",
    "axis2.set_ylabel('loss')\n",
    "axis2.set_xlabel('epoch')\n",
    "axis2.legend(loc='upper right')\n",
    "plt.show()"
   ]
  },
  {
   "cell_type": "markdown",
   "metadata": {
    "papermill": {
     "duration": 24.668594,
     "end_time": "2021-01-06T10:11:08.911784",
     "exception": false,
     "start_time": "2021-01-06T10:10:44.243190",
     "status": "completed"
    },
    "tags": []
   },
   "source": [
    "### evaluate our test set"
   ]
  },
  {
   "cell_type": "code",
   "execution_count": 19,
   "metadata": {
    "execution": {
     "iopub.execute_input": "2021-01-06T10:11:57.747399Z",
     "iopub.status.busy": "2021-01-06T10:11:57.746131Z",
     "iopub.status.idle": "2021-01-06T10:12:04.647367Z",
     "shell.execute_reply": "2021-01-06T10:12:04.646810Z"
    },
    "executionInfo": {
     "elapsed": 2038666,
     "status": "ok",
     "timestamp": 1590948543932,
     "user": {
      "displayName": "Brent Larzalere",
      "photoUrl": "https://lh3.googleusercontent.com/a-/AOh14GgI8CfxhQrguX3H8A4FuD7hkmexPHGUR2BYfGRiRA=s64",
      "userId": "06755738025051518189"
     },
     "user_tz": 300
    },
    "id": "EBfj-XzZ_XaC",
    "outputId": "98315240-992c-451d-ca29-dcfb87e77d2d",
    "papermill": {
     "duration": 31.212124,
     "end_time": "2021-01-06T10:12:04.647594",
     "exception": false,
     "start_time": "2021-01-06T10:11:33.435470",
     "status": "completed"
    },
    "tags": []
   },
   "outputs": [
    {
     "name": "stdout",
     "output_type": "stream",
     "text": [
      "Test score: 0.06496881693601608\n",
      "Test accuracy: 0.978509783744812\n"
     ]
    }
   ],
   "source": [
    "score, acc = model.evaluate([X_test, X_test], y_test, batch_size=batch_size, verbose=0)\n",
    "print(f'Test score: {score}')\n",
    "print(f'Test accuracy: {acc}')"
   ]
  },
  {
   "cell_type": "markdown",
   "metadata": {
    "papermill": {
     "duration": 24.311825,
     "end_time": "2021-01-06T10:12:54.271722",
     "exception": false,
     "start_time": "2021-01-06T10:12:29.959897",
     "status": "completed"
    },
    "tags": []
   },
   "source": [
    "### save our training model & weights"
   ]
  },
  {
   "cell_type": "code",
   "execution_count": 20,
   "metadata": {
    "execution": {
     "iopub.execute_input": "2021-01-06T10:13:43.885888Z",
     "iopub.status.busy": "2021-01-06T10:13:43.884923Z",
     "iopub.status.idle": "2021-01-06T10:13:43.946230Z",
     "shell.execute_reply": "2021-01-06T10:13:43.946851Z"
    },
    "executionInfo": {
     "elapsed": 2037555,
     "status": "ok",
     "timestamp": 1590948543933,
     "user": {
      "displayName": "Brent Larzalere",
      "photoUrl": "https://lh3.googleusercontent.com/a-/AOh14GgI8CfxhQrguX3H8A4FuD7hkmexPHGUR2BYfGRiRA=s64",
      "userId": "06755738025051518189"
     },
     "user_tz": 300
    },
    "id": "N42xSd1SI8v8",
    "outputId": "4b6c1f29-0c43-4841-c9de-a2f91d8daf9c",
    "papermill": {
     "duration": 24.42931,
     "end_time": "2021-01-06T10:13:43.947043",
     "exception": false,
     "start_time": "2021-01-06T10:13:19.517733",
     "status": "completed"
    },
    "tags": []
   },
   "outputs": [
    {
     "name": "stdout",
     "output_type": "stream",
     "text": [
      "Model Saved\n"
     ]
    }
   ],
   "source": [
    "mod_file = 'LSTM_model.h5'\n",
    "model.save(mod_file)\n",
    "print(\"Model Saved\")"
   ]
  }
 ],
 "metadata": {
  "kernelspec": {
   "display_name": "Python 3",
   "language": "python",
   "name": "python3"
  },
  "language_info": {
   "codemirror_mode": {
    "name": "ipython",
    "version": 3
   },
   "file_extension": ".py",
   "mimetype": "text/x-python",
   "name": "python",
   "nbconvert_exporter": "python",
   "pygments_lexer": "ipython3",
   "version": "3.8.3"
  },
  "papermill": {
   "duration": 4776.236343,
   "end_time": "2021-01-06T10:14:10.995462",
   "environment_variables": {},
   "exception": null,
   "input_path": "__notebook__.ipynb",
   "output_path": "__notebook__.ipynb",
   "parameters": {},
   "start_time": "2021-01-06T08:54:34.759119",
   "version": "2.1.0"
  }
 },
 "nbformat": 4,
 "nbformat_minor": 4
}
