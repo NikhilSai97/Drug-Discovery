{
 "cells": [
  {
   "cell_type": "markdown",
   "metadata": {
    "papermill": {
     "duration": 0.027179,
     "end_time": "2021-01-06T12:04:02.654187",
     "exception": false,
     "start_time": "2021-01-06T12:04:02.627008",
     "status": "completed"
    },
    "tags": []
   },
   "source": [
    "# Train the pretrained model( Initial_Training.ipynb) with additional data"
   ]
  },
  {
   "cell_type": "markdown",
   "metadata": {
    "papermill": {
     "duration": 0.027494,
     "end_time": "2021-01-06T12:04:02.708323",
     "exception": false,
     "start_time": "2021-01-06T12:04:02.680829",
     "status": "completed"
    },
    "tags": []
   },
   "source": [
    "### Import core libraries"
   ]
  },
  {
   "cell_type": "code",
   "execution_count": 1,
   "metadata": {
    "execution": {
     "iopub.execute_input": "2021-01-06T12:04:02.769401Z",
     "iopub.status.busy": "2021-01-06T12:04:02.768447Z",
     "iopub.status.idle": "2021-01-06T12:04:10.440399Z",
     "shell.execute_reply": "2021-01-06T12:04:10.441095Z"
    },
    "executionInfo": {
     "elapsed": 73868,
     "status": "ok",
     "timestamp": 1595946459282,
     "user": {
      "displayName": "Brent Larzalere",
      "photoUrl": "https://lh3.googleusercontent.com/a-/AOh14GgI8CfxhQrguX3H8A4FuD7hkmexPHGUR2BYfGRiRA=s64",
      "userId": "06755738025051518189"
     },
     "user_tz": 300
    },
    "id": "UJOKbXUHjOaL",
    "outputId": "4f11cb31-58a0-4c75-f56f-6cc471d3a0ae",
    "papermill": {
     "duration": 7.703976,
     "end_time": "2021-01-06T12:04:10.441281",
     "exception": false,
     "start_time": "2021-01-06T12:04:02.737305",
     "status": "completed"
    },
    "tags": []
   },
   "outputs": [
    {
     "name": "stdout",
     "output_type": "stream",
     "text": [
      "TensorFlow version: 2.3.1\n"
     ]
    }
   ],
   "source": [
    "import sys\n",
    "import os\n",
    "import pandas as pd\n",
    "import numpy as np\n",
    "import json\n",
    "from sklearn.model_selection import train_test_split\n",
    "import random as rn\n",
    "import matplotlib.pyplot as plt\n",
    "%matplotlib inline\n",
    "\n",
    "#%tensorflow_version 2.x\n",
    "import tensorflow as tf\n",
    "print(\"TensorFlow version:\", tf.__version__)"
   ]
  },
  {
   "cell_type": "code",
   "execution_count": 2,
   "metadata": {
    "execution": {
     "iopub.execute_input": "2021-01-06T12:04:10.506289Z",
     "iopub.status.busy": "2021-01-06T12:04:10.505337Z",
     "iopub.status.idle": "2021-01-06T12:04:10.510453Z",
     "shell.execute_reply": "2021-01-06T12:04:10.509752Z"
    },
    "id": "RApQzR6ljklr",
    "papermill": {
     "duration": 0.040763,
     "end_time": "2021-01-06T12:04:10.510568",
     "exception": false,
     "start_time": "2021-01-06T12:04:10.469805",
     "status": "completed"
    },
    "tags": []
   },
   "outputs": [],
   "source": [
    "# load Keras libraries\n",
    "from tensorflow.keras.models import Model, load_model\n",
    "from tensorflow.keras.layers import Input, LSTM, Dense, Dropout, Concatenate\n",
    "from tensorflow.keras.initializers import RandomNormal\n",
    "from tensorflow.keras import regularizers\n",
    "from tensorflow.keras.optimizers import Adam\n",
    "from tensorflow.keras.callbacks import ReduceLROnPlateau, ModelCheckpoint, TensorBoard\n",
    "from tensorflow.keras.utils import Sequence"
   ]
  },
  {
   "cell_type": "code",
   "execution_count": 3,
   "metadata": {
    "execution": {
     "iopub.execute_input": "2021-01-06T12:04:10.575215Z",
     "iopub.status.busy": "2021-01-06T12:04:10.574334Z",
     "iopub.status.idle": "2021-01-06T12:04:10.580034Z",
     "shell.execute_reply": "2021-01-06T12:04:10.580598Z"
    },
    "executionInfo": {
     "elapsed": 82869,
     "status": "ok",
     "timestamp": 1595946468314,
     "user": {
      "displayName": "Brent Larzalere",
      "photoUrl": "https://lh3.googleusercontent.com/a-/AOh14GgI8CfxhQrguX3H8A4FuD7hkmexPHGUR2BYfGRiRA=s64",
      "userId": "06755738025051518189"
     },
     "user_tz": 300
    },
    "id": "rrChNI9Rjxqn",
    "outputId": "d3d6c42c-2358-41e4-b627-364b9d9bbf30",
    "papermill": {
     "duration": 0.041584,
     "end_time": "2021-01-06T12:04:10.580733",
     "exception": false,
     "start_time": "2021-01-06T12:04:10.539149",
     "status": "completed"
    },
    "tags": []
   },
   "outputs": [
    {
     "data": {
      "text/plain": [
       "{'divide': 'warn', 'over': 'warn', 'under': 'ignore', 'invalid': 'warn'}"
      ]
     },
     "execution_count": 3,
     "metadata": {},
     "output_type": "execute_result"
    }
   ],
   "source": [
    "# set random seed\n",
    "seed = 777\n",
    "np.random.seed(seed)\n",
    "rn.seed(seed)\n",
    "np.seterr(divide='ignore')"
   ]
  },
  {
   "cell_type": "markdown",
   "metadata": {
    "papermill": {
     "duration": 0.028336,
     "end_time": "2021-01-06T12:04:10.636808",
     "exception": false,
     "start_time": "2021-01-06T12:04:10.608472",
     "status": "completed"
    },
    "tags": []
   },
   "source": [
    "### load the model"
   ]
  },
  {
   "cell_type": "code",
   "execution_count": 4,
   "metadata": {
    "execution": {
     "iopub.execute_input": "2021-01-06T12:04:10.697888Z",
     "iopub.status.busy": "2021-01-06T12:04:10.697227Z",
     "iopub.status.idle": "2021-01-06T12:04:11.919868Z",
     "shell.execute_reply": "2021-01-06T12:04:11.920387Z"
    },
    "executionInfo": {
     "elapsed": 84428,
     "status": "ok",
     "timestamp": 1595946469962,
     "user": {
      "displayName": "Brent Larzalere",
      "photoUrl": "https://lh3.googleusercontent.com/a-/AOh14GgI8CfxhQrguX3H8A4FuD7hkmexPHGUR2BYfGRiRA=s64",
      "userId": "06755738025051518189"
     },
     "user_tz": 300
    },
    "id": "snRYYp5nk_bp",
    "outputId": "4b907fac-0bda-4650-8881-8aabdb1f84b8",
    "papermill": {
     "duration": 1.256298,
     "end_time": "2021-01-06T12:04:11.920537",
     "exception": false,
     "start_time": "2021-01-06T12:04:10.664239",
     "status": "completed"
    },
    "tags": []
   },
   "outputs": [
    {
     "name": "stdout",
     "output_type": "stream",
     "text": [
      "Model: \"model\"\n",
      "__________________________________________________________________________________________________\n",
      "Layer (type)                    Output Shape         Param #     Connected to                     \n",
      "==================================================================================================\n",
      "input_1 (InputLayer)            [(None, 100, 45)]    0                                            \n",
      "__________________________________________________________________________________________________\n",
      "lstm (LSTM)                     [(None, 256), (None, 309248      input_1[0][0]                    \n",
      "__________________________________________________________________________________________________\n",
      "concatenate (Concatenate)       (None, 512)          0           lstm[0][1]                       \n",
      "                                                                 lstm[0][2]                       \n",
      "__________________________________________________________________________________________________\n",
      "dense (Dense)                   (None, 128)          65664       concatenate[0][0]                \n",
      "__________________________________________________________________________________________________\n",
      "input_2 (InputLayer)            [(None, 100, 45)]    0                                            \n",
      "__________________________________________________________________________________________________\n",
      "dense_1 (Dense)                 (None, 256)          33024       dense[0][0]                      \n",
      "__________________________________________________________________________________________________\n",
      "dense_2 (Dense)                 (None, 256)          33024       dense[0][0]                      \n",
      "__________________________________________________________________________________________________\n",
      "lstm_1 (LSTM)                   (None, 100, 256)     309248      input_2[0][0]                    \n",
      "                                                                 dense_1[0][0]                    \n",
      "                                                                 dense_2[0][0]                    \n",
      "__________________________________________________________________________________________________\n",
      "dense_3 (Dense)                 (None, 100, 45)      11565       lstm_1[0][0]                     \n",
      "==================================================================================================\n",
      "Total params: 761,773\n",
      "Trainable params: 761,773\n",
      "Non-trainable params: 0\n",
      "__________________________________________________________________________________________________\n"
     ]
    }
   ],
   "source": [
    "model_file = '../input/data-zinc/LSTM_model.h5'\n",
    "model = load_model(model_file)\n",
    "model.summary()"
   ]
  },
  {
   "cell_type": "markdown",
   "metadata": {
    "papermill": {
     "duration": 0.028385,
     "end_time": "2021-01-06T12:04:11.978963",
     "exception": false,
     "start_time": "2021-01-06T12:04:11.950578",
     "status": "completed"
    },
    "tags": []
   },
   "source": [
    "### create data load functions"
   ]
  },
  {
   "cell_type": "code",
   "execution_count": 5,
   "metadata": {
    "execution": {
     "iopub.execute_input": "2021-01-06T12:04:12.046121Z",
     "iopub.status.busy": "2021-01-06T12:04:12.045167Z",
     "iopub.status.idle": "2021-01-06T12:04:12.048381Z",
     "shell.execute_reply": "2021-01-06T12:04:12.047650Z"
    },
    "id": "c-5gB6MMy6AJ",
    "papermill": {
     "duration": 0.039058,
     "end_time": "2021-01-06T12:04:12.048522",
     "exception": false,
     "start_time": "2021-01-06T12:04:12.009464",
     "status": "completed"
    },
    "tags": []
   },
   "outputs": [],
   "source": [
    "\n",
    "def load_data(data):\n",
    "    with open(data, 'r') as f:\n",
    "        smiles = [r.rstrip() for r in f]\n",
    "    return np.array(smiles)\n",
    "\n",
    "def load_dictionaries(input_dict):\n",
    "    with open(input_dict, 'r') as fp:\n",
    "        new_dict = json.load(fp)\n",
    "    return new_dict "
   ]
  },
  {
   "cell_type": "markdown",
   "metadata": {
    "papermill": {
     "duration": 0.043223,
     "end_time": "2021-01-06T12:04:12.135890",
     "exception": false,
     "start_time": "2021-01-06T12:04:12.092667",
     "status": "completed"
    },
    "tags": []
   },
   "source": [
    "### Additional Training Data"
   ]
  },
  {
   "cell_type": "code",
   "execution_count": 6,
   "metadata": {
    "execution": {
     "iopub.execute_input": "2021-01-06T12:04:12.227270Z",
     "iopub.status.busy": "2021-01-06T12:04:12.226610Z",
     "iopub.status.idle": "2021-01-06T12:04:12.241857Z",
     "shell.execute_reply": "2021-01-06T12:04:12.242439Z"
    },
    "executionInfo": {
     "elapsed": 84624,
     "status": "ok",
     "timestamp": 1595946470176,
     "user": {
      "displayName": "Brent Larzalere",
      "photoUrl": "https://lh3.googleusercontent.com/a-/AOh14GgI8CfxhQrguX3H8A4FuD7hkmexPHGUR2BYfGRiRA=s64",
      "userId": "06755738025051518189"
     },
     "user_tz": 300
    },
    "id": "RZ8xp-mzy7U4",
    "outputId": "07a6bc1b-35dd-4086-98c2-921abb249520",
    "papermill": {
     "duration": 0.063817,
     "end_time": "2021-01-06T12:04:12.242581",
     "exception": false,
     "start_time": "2021-01-06T12:04:12.178764",
     "status": "completed"
    },
    "tags": []
   },
   "outputs": [
    {
     "name": "stdout",
     "output_type": "stream",
     "text": [
      "Training dataset shape: (100,)\n",
      "Sample training smile: \n",
      " NC1CC(O)C23CCC1C2Cc1c2cc[n+](nc(cnc1C=O)C3)CC1=CC=C(C=C2)N(N)O1\n"
     ]
    }
   ],
   "source": [
    "smifile = '../input/data-zinc/nextgen_smiles.smi'\n",
    "data = load_data(smifile)\n",
    "print(\"Training dataset shape:\", data.shape)\n",
    "print(\"Sample training smile: \\n\", data[2])"
   ]
  },
  {
   "cell_type": "markdown",
   "metadata": {
    "papermill": {
     "duration": 0.029519,
     "end_time": "2021-01-06T12:04:12.301333",
     "exception": false,
     "start_time": "2021-01-06T12:04:12.271814",
     "status": "completed"
    },
    "tags": []
   },
   "source": [
    "### Load the Python dictionaries that map characters-to-integers and intergers-to-characters"
   ]
  },
  {
   "cell_type": "code",
   "execution_count": 7,
   "metadata": {
    "execution": {
     "iopub.execute_input": "2021-01-06T12:04:12.367212Z",
     "iopub.status.busy": "2021-01-06T12:04:12.366527Z",
     "iopub.status.idle": "2021-01-06T12:04:12.388839Z",
     "shell.execute_reply": "2021-01-06T12:04:12.389718Z"
    },
    "executionInfo": {
     "elapsed": 85111,
     "status": "ok",
     "timestamp": 1595946470678,
     "user": {
      "displayName": "Brent Larzalere",
      "photoUrl": "https://lh3.googleusercontent.com/a-/AOh14GgI8CfxhQrguX3H8A4FuD7hkmexPHGUR2BYfGRiRA=s64",
      "userId": "06755738025051518189"
     },
     "user_tz": 300
    },
    "id": "u9TmoCrMy8JX",
    "outputId": "5e96a8d2-b6d5-406c-ff7f-c706f4df502f",
    "papermill": {
     "duration": 0.058913,
     "end_time": "2021-01-06T12:04:12.389891",
     "exception": false,
     "start_time": "2021-01-06T12:04:12.330978",
     "status": "completed"
    },
    "tags": []
   },
   "outputs": [
    {
     "name": "stdout",
     "output_type": "stream",
     "text": [
      "Character set vocabulary length: 45\n",
      "Dictionary mapping characters-to-integers:\n",
      " {'n': 0, '[': 1, '\\\\': 2, 'E': 3, 'H': 4, ')': 5, 'B': 6, '9': 7, '2': 8, ']': 9, '7': 10, '!': 11, 't': 12, 's': 13, 'o': 14, 'c': 15, 'K': 16, '-': 17, '/': 18, 'l': 19, 'A': 20, 'r': 21, '@': 22, 'C': 23, '=': 24, '6': 25, 'N': 26, 'L': 27, 'a': 28, '5': 29, 'S': 30, 'T': 31, '#': 32, '+': 33, 'P': 34, 'i': 35, '(': 36, '8': 37, '1': 38, 'I': 39, 'e': 40, 'O': 41, '3': 42, 'F': 43, '4': 44}\n",
      "Dictionary mapping integers-to-characters:\n",
      " {'0': 'n', '1': '[', '2': '\\\\', '3': 'E', '4': 'H', '5': ')', '6': 'B', '7': '9', '8': '2', '9': ']', '10': '7', '11': '!', '12': 't', '13': 's', '14': 'o', '15': 'c', '16': 'K', '17': '-', '18': '/', '19': 'l', '20': 'A', '21': 'r', '22': '@', '23': 'C', '24': '=', '25': '6', '26': 'N', '27': 'L', '28': 'a', '29': '5', '30': 'S', '31': 'T', '32': '#', '33': '+', '34': 'P', '35': 'i', '36': '(', '37': '8', '38': '1', '39': 'I', '40': 'e', '41': 'O', '42': '3', '43': 'F', '44': '4'}\n"
     ]
    }
   ],
   "source": [
    "d1 = '../input/data-zinc/char_to_int.json'\n",
    "d2 = '../input/data-zinc/int_to_char.json'\n",
    "char_to_int = load_dictionaries(d1)\n",
    "int_to_char = load_dictionaries(d2)\n",
    "n_vocab = len(char_to_int)\n",
    "print(\"Character set vocabulary length:\", n_vocab)\n",
    "print(\"Dictionary mapping characters-to-integers:\\n\", char_to_int)\n",
    "print(\"Dictionary mapping integers-to-characters:\\n\", int_to_char)"
   ]
  },
  {
   "cell_type": "markdown",
   "metadata": {
    "papermill": {
     "duration": 0.04443,
     "end_time": "2021-01-06T12:04:12.479438",
     "exception": false,
     "start_time": "2021-01-06T12:04:12.435008",
     "status": "completed"
    },
    "tags": []
   },
   "source": [
    "### Create a function to turn the dataset into a supervised problem, add the beginning and ending character markers, add padding for constant sequence length, and turn the sequence into a sequence of one-hot vectors"
   ]
  },
  {
   "cell_type": "code",
   "execution_count": 8,
   "metadata": {
    "execution": {
     "iopub.execute_input": "2021-01-06T12:04:12.578227Z",
     "iopub.status.busy": "2021-01-06T12:04:12.577488Z",
     "iopub.status.idle": "2021-01-06T12:04:12.581874Z",
     "shell.execute_reply": "2021-01-06T12:04:12.581100Z"
    },
    "id": "4n8e5Vruy84y",
    "papermill": {
     "duration": 0.058015,
     "end_time": "2021-01-06T12:04:12.581990",
     "exception": false,
     "start_time": "2021-01-06T12:04:12.523975",
     "status": "completed"
    },
    "tags": []
   },
   "outputs": [],
   "source": [
    "def vectorize(smiles, embed, n_vocab):\n",
    "    one_hot = np.zeros((smiles.shape[0], embed, n_vocab), dtype=np.int8)\n",
    "    for i, smile in enumerate(smiles):\n",
    "        # encode the start\n",
    "        one_hot[i,0,char_to_int[\"!\"]] = 1\n",
    "        #encode the smiles characters\n",
    "        for j, c in enumerate(smile):\n",
    "            one_hot[i,j+1,char_to_int[c]] = 1\n",
    "        # encode the end of the smiles string\n",
    "        one_hot[i,len(smile)+1:,char_to_int[\"E\"]] = 1\n",
    "    # return two items, one for input and one for output\n",
    "    return one_hot[:,0:-1,:], one_hot[:,1:,:]"
   ]
  },
  {
   "cell_type": "markdown",
   "metadata": {
    "papermill": {
     "duration": 0.030069,
     "end_time": "2021-01-06T12:04:12.642083",
     "exception": false,
     "start_time": "2021-01-06T12:04:12.612014",
     "status": "completed"
    },
    "tags": []
   },
   "source": [
    "### Create our X & y dataset"
   ]
  },
  {
   "cell_type": "code",
   "execution_count": 9,
   "metadata": {
    "execution": {
     "iopub.execute_input": "2021-01-06T12:04:12.711517Z",
     "iopub.status.busy": "2021-01-06T12:04:12.707810Z",
     "iopub.status.idle": "2021-01-06T12:04:12.721226Z",
     "shell.execute_reply": "2021-01-06T12:04:12.720336Z"
    },
    "executionInfo": {
     "elapsed": 85100,
     "status": "ok",
     "timestamp": 1595946470679,
     "user": {
      "displayName": "Brent Larzalere",
      "photoUrl": "https://lh3.googleusercontent.com/a-/AOh14GgI8CfxhQrguX3H8A4FuD7hkmexPHGUR2BYfGRiRA=s64",
      "userId": "06755738025051518189"
     },
     "user_tz": 300
    },
    "id": "nUu6Hg74y9kC",
    "outputId": "72fe2af5-3968-4ac4-9ea7-4a272aadf07b",
    "papermill": {
     "duration": 0.048776,
     "end_time": "2021-01-06T12:04:12.721366",
     "exception": false,
     "start_time": "2021-01-06T12:04:12.672590",
     "status": "completed"
    },
    "tags": []
   },
   "outputs": [
    {
     "name": "stdout",
     "output_type": "stream",
     "text": [
      "Training input shape: (100, 100, 45)\n",
      "Training output shape: (100, 100, 45)\n"
     ]
    }
   ],
   "source": [
    "embed = 101\n",
    "X_train, y_train = vectorize(data, embed, n_vocab)\n",
    "print(\"Training input shape:\", X_train.shape)\n",
    "print(\"Training output shape:\", y_train.shape)"
   ]
  },
  {
   "cell_type": "markdown",
   "metadata": {
    "papermill": {
     "duration": 0.04492,
     "end_time": "2021-01-06T12:04:12.811774",
     "exception": false,
     "start_time": "2021-01-06T12:04:12.766854",
     "status": "completed"
    },
    "tags": []
   },
   "source": [
    "### Train the model on additional dataset"
   ]
  },
  {
   "cell_type": "code",
   "execution_count": 10,
   "metadata": {
    "execution": {
     "iopub.execute_input": "2021-01-06T12:04:12.909228Z",
     "iopub.status.busy": "2021-01-06T12:04:12.907729Z",
     "iopub.status.idle": "2021-01-06T12:07:14.259282Z",
     "shell.execute_reply": "2021-01-06T12:07:14.258427Z"
    },
    "executionInfo": {
     "elapsed": 100959,
     "status": "ok",
     "timestamp": 1595946486552,
     "user": {
      "displayName": "Brent Larzalere",
      "photoUrl": "https://lh3.googleusercontent.com/a-/AOh14GgI8CfxhQrguX3H8A4FuD7hkmexPHGUR2BYfGRiRA=s64",
      "userId": "06755738025051518189"
     },
     "user_tz": 300
    },
    "id": "R-B39ACmy-Ie",
    "outputId": "d19afd6f-e7ad-4da4-d1dc-1f9b17b19c82",
    "papermill": {
     "duration": 181.402661,
     "end_time": "2021-01-06T12:07:14.259421",
     "exception": false,
     "start_time": "2021-01-06T12:04:12.856760",
     "status": "completed"
    },
    "tags": []
   },
   "outputs": [
    {
     "name": "stdout",
     "output_type": "stream",
     "text": [
      "Epoch 1/56\n",
      "7/7 [==============================] - 3s 409ms/step - loss: 2.5283 - acc: 0.7005\n",
      "Epoch 2/56\n",
      "7/7 [==============================] - 3s 396ms/step - loss: 2.4726 - acc: 0.6820\n",
      "Epoch 3/56\n",
      "7/7 [==============================] - 3s 397ms/step - loss: 1.7675 - acc: 0.7135\n",
      "Epoch 4/56\n",
      "7/7 [==============================] - 3s 396ms/step - loss: 1.2486 - acc: 0.7478\n",
      "Epoch 5/56\n",
      "7/7 [==============================] - 3s 393ms/step - loss: 0.9153 - acc: 0.7872\n",
      "Epoch 6/56\n",
      "7/7 [==============================] - 3s 392ms/step - loss: 0.7128 - acc: 0.8204\n",
      "Epoch 7/56\n",
      "7/7 [==============================] - 3s 386ms/step - loss: 0.5671 - acc: 0.8451\n",
      "Epoch 8/56\n",
      "7/7 [==============================] - 3s 396ms/step - loss: 0.5194 - acc: 0.8525\n",
      "Epoch 9/56\n",
      "7/7 [==============================] - 3s 395ms/step - loss: 0.4343 - acc: 0.8776\n",
      "Epoch 10/56\n",
      "7/7 [==============================] - 3s 389ms/step - loss: 0.3668 - acc: 0.8959\n",
      "Epoch 11/56\n",
      "7/7 [==============================] - 3s 396ms/step - loss: 0.2969 - acc: 0.9196\n",
      "Epoch 12/56\n",
      "7/7 [==============================] - 3s 396ms/step - loss: 0.2487 - acc: 0.9339\n",
      "Epoch 13/56\n",
      "7/7 [==============================] - 3s 391ms/step - loss: 0.2118 - acc: 0.9456\n",
      "Epoch 14/56\n",
      "7/7 [==============================] - 3s 390ms/step - loss: 0.1742 - acc: 0.9578\n",
      "Epoch 15/56\n",
      "7/7 [==============================] - 3s 415ms/step - loss: 0.1506 - acc: 0.9689\n",
      "Epoch 16/56\n",
      "7/7 [==============================] - 3s 404ms/step - loss: 0.1284 - acc: 0.9769\n",
      "Epoch 17/56\n",
      "7/7 [==============================] - 3s 402ms/step - loss: 0.1118 - acc: 0.9831\n",
      "Epoch 18/56\n",
      "7/7 [==============================] - 3s 403ms/step - loss: 0.0987 - acc: 0.9879\n",
      "Epoch 19/56\n",
      "7/7 [==============================] - 3s 386ms/step - loss: 0.0879 - acc: 0.9907\n",
      "Epoch 20/56\n",
      "7/7 [==============================] - 3s 395ms/step - loss: 0.0787 - acc: 0.9924\n",
      "Epoch 21/56\n",
      "7/7 [==============================] - 3s 390ms/step - loss: 0.0698 - acc: 0.9942\n",
      "Epoch 22/56\n",
      "7/7 [==============================] - 3s 396ms/step - loss: 0.0631 - acc: 0.9955\n",
      "Epoch 23/56\n",
      "7/7 [==============================] - 3s 395ms/step - loss: 0.0572 - acc: 0.9967\n",
      "Epoch 24/56\n",
      "7/7 [==============================] - 3s 400ms/step - loss: 0.0530 - acc: 0.9971\n",
      "Epoch 25/56\n",
      "7/7 [==============================] - 3s 394ms/step - loss: 0.0496 - acc: 0.9977\n",
      "Epoch 26/56\n",
      "7/7 [==============================] - 3s 402ms/step - loss: 0.0467 - acc: 0.9979\n",
      "Epoch 27/56\n",
      "7/7 [==============================] - 3s 391ms/step - loss: 0.0443 - acc: 0.9981\n",
      "Epoch 28/56\n",
      "7/7 [==============================] - 3s 393ms/step - loss: 0.0425 - acc: 0.9982\n",
      "Epoch 29/56\n",
      "7/7 [==============================] - 3s 388ms/step - loss: 0.0409 - acc: 0.9984\n",
      "Epoch 30/56\n",
      "7/7 [==============================] - 3s 392ms/step - loss: 0.0395 - acc: 0.9984\n",
      "Epoch 31/56\n",
      "7/7 [==============================] - 3s 394ms/step - loss: 0.0384 - acc: 0.9984\n",
      "Epoch 32/56\n",
      "7/7 [==============================] - 3s 397ms/step - loss: 0.0375 - acc: 0.9984\n",
      "Epoch 33/56\n",
      "7/7 [==============================] - 3s 427ms/step - loss: 0.0366 - acc: 0.9984\n",
      "Epoch 34/56\n",
      "7/7 [==============================] - 3s 427ms/step - loss: 0.0358 - acc: 0.9984\n",
      "Epoch 35/56\n",
      "7/7 [==============================] - 3s 395ms/step - loss: 0.0351 - acc: 0.9984\n",
      "Epoch 36/56\n",
      "7/7 [==============================] - 3s 408ms/step - loss: 0.0345 - acc: 0.9984\n",
      "Epoch 37/56\n",
      "7/7 [==============================] - 3s 394ms/step - loss: 0.0340 - acc: 0.9984\n",
      "Epoch 38/56\n",
      "7/7 [==============================] - 3s 391ms/step - loss: 0.0335 - acc: 0.9984\n",
      "Epoch 39/56\n",
      "7/7 [==============================] - 3s 399ms/step - loss: 0.0330 - acc: 0.9984\n",
      "Epoch 40/56\n",
      "7/7 [==============================] - 3s 385ms/step - loss: 0.0326 - acc: 0.9984\n",
      "Epoch 41/56\n",
      "7/7 [==============================] - 3s 389ms/step - loss: 0.0322 - acc: 0.9984\n",
      "Epoch 42/56\n",
      "7/7 [==============================] - 3s 390ms/step - loss: 0.0319 - acc: 0.9984\n",
      "Epoch 43/56\n",
      "7/7 [==============================] - 3s 387ms/step - loss: 0.0315 - acc: 0.9984\n",
      "Epoch 44/56\n",
      "7/7 [==============================] - 3s 385ms/step - loss: 0.0313 - acc: 0.9984\n",
      "Epoch 45/56\n",
      "7/7 [==============================] - 3s 384ms/step - loss: 0.0310 - acc: 0.9984\n",
      "Epoch 46/56\n",
      "7/7 [==============================] - 3s 393ms/step - loss: 0.0307 - acc: 0.9984\n",
      "Epoch 47/56\n",
      "7/7 [==============================] - 3s 393ms/step - loss: 0.0305 - acc: 0.9984\n",
      "Epoch 48/56\n",
      "7/7 [==============================] - 3s 385ms/step - loss: 0.0302 - acc: 0.9984\n",
      "Epoch 49/56\n",
      "7/7 [==============================] - 3s 398ms/step - loss: 0.0300 - acc: 0.9984\n",
      "Epoch 50/56\n",
      "7/7 [==============================] - 3s 386ms/step - loss: 0.0298 - acc: 0.9985\n",
      "Epoch 51/56\n",
      "7/7 [==============================] - 3s 389ms/step - loss: 0.0296 - acc: 0.9985\n",
      "Epoch 52/56\n",
      "7/7 [==============================] - 3s 388ms/step - loss: 0.0294 - acc: 0.9985\n",
      "Epoch 53/56\n",
      "7/7 [==============================] - 3s 406ms/step - loss: 0.0293 - acc: 0.9985\n",
      "Epoch 54/56\n",
      "7/7 [==============================] - 3s 387ms/step - loss: 0.0291 - acc: 0.9985\n",
      "Epoch 55/56\n",
      "7/7 [==============================] - 3s 388ms/step - loss: 0.0290 - acc: 0.9985\n",
      "Epoch 56/56\n",
      "7/7 [==============================] - 3s 393ms/step - loss: 0.0288 - acc: 0.9985\n"
     ]
    },
    {
     "data": {
      "text/plain": [
       "<tensorflow.python.keras.callbacks.History at 0x7fc76820d050>"
      ]
     },
     "execution_count": 10,
     "metadata": {},
     "output_type": "execute_result"
    }
   ],
   "source": [
    "batch_size = 16\n",
    "nb_epochs = 225 // 4\n",
    "model.fit([X_train, X_train], y_train, epochs=nb_epochs, batch_size=batch_size)"
   ]
  },
  {
   "cell_type": "markdown",
   "metadata": {
    "papermill": {
     "duration": 0.275797,
     "end_time": "2021-01-06T12:07:14.845152",
     "exception": false,
     "start_time": "2021-01-06T12:07:14.569355",
     "status": "completed"
    },
    "tags": []
   },
   "source": [
    "### Save our better learned model & weights"
   ]
  },
  {
   "cell_type": "code",
   "execution_count": 11,
   "metadata": {
    "execution": {
     "iopub.execute_input": "2021-01-06T12:07:15.361106Z",
     "iopub.status.busy": "2021-01-06T12:07:15.360461Z",
     "iopub.status.idle": "2021-01-06T12:07:15.406308Z",
     "shell.execute_reply": "2021-01-06T12:07:15.405511Z"
    },
    "executionInfo": {
     "elapsed": 101169,
     "status": "ok",
     "timestamp": 1595946486772,
     "user": {
      "displayName": "Brent Larzalere",
      "photoUrl": "https://lh3.googleusercontent.com/a-/AOh14GgI8CfxhQrguX3H8A4FuD7hkmexPHGUR2BYfGRiRA=s64",
      "userId": "06755738025051518189"
     },
     "user_tz": 300
    },
    "id": "w9tLawrUy-n0",
    "outputId": "defae959-a8c9-4ed1-ae7e-63c89c5b227b",
    "papermill": {
     "duration": 0.290572,
     "end_time": "2021-01-06T12:07:15.406453",
     "exception": false,
     "start_time": "2021-01-06T12:07:15.115881",
     "status": "completed"
    },
    "tags": []
   },
   "outputs": [
    {
     "name": "stdout",
     "output_type": "stream",
     "text": [
      "Model Saved\n"
     ]
    }
   ],
   "source": [
    "mod_file = 'Better_LSTM_model.h5'\n",
    "model.save(mod_file)\n",
    "print(\"Model Saved\")"
   ]
  },
  {
   "cell_type": "markdown",
   "metadata": {
    "papermill": {
     "duration": 0.212427,
     "end_time": "2021-01-06T12:07:15.828581",
     "exception": false,
     "start_time": "2021-01-06T12:07:15.616154",
     "status": "completed"
    },
    "tags": []
   },
   "source": [
    "### Create the encoder model from the previously trained model"
   ]
  },
  {
   "cell_type": "code",
   "execution_count": 12,
   "metadata": {
    "execution": {
     "iopub.execute_input": "2021-01-06T12:07:16.253386Z",
     "iopub.status.busy": "2021-01-06T12:07:16.252218Z",
     "iopub.status.idle": "2021-01-06T12:07:16.268026Z",
     "shell.execute_reply": "2021-01-06T12:07:16.267324Z"
    },
    "executionInfo": {
     "elapsed": 101452,
     "status": "ok",
     "timestamp": 1595946487076,
     "user": {
      "displayName": "Brent Larzalere",
      "photoUrl": "https://lh3.googleusercontent.com/a-/AOh14GgI8CfxhQrguX3H8A4FuD7hkmexPHGUR2BYfGRiRA=s64",
      "userId": "06755738025051518189"
     },
     "user_tz": 300
    },
    "id": "pOzn9qvvmLmt",
    "outputId": "f42ed21e-30ef-4ba5-e752-c1734791bfaa",
    "papermill": {
     "duration": 0.231772,
     "end_time": "2021-01-06T12:07:16.268187",
     "exception": false,
     "start_time": "2021-01-06T12:07:16.036415",
     "status": "completed"
    },
    "tags": []
   },
   "outputs": [
    {
     "name": "stdout",
     "output_type": "stream",
     "text": [
      "Model: \"functional_1\"\n",
      "__________________________________________________________________________________________________\n",
      "Layer (type)                    Output Shape         Param #     Connected to                     \n",
      "==================================================================================================\n",
      "input_1 (InputLayer)            [(None, 100, 45)]    0                                            \n",
      "__________________________________________________________________________________________________\n",
      "lstm (LSTM)                     [(None, 256), (None, 309248      input_1[0][0]                    \n",
      "__________________________________________________________________________________________________\n",
      "concatenate (Concatenate)       (None, 512)          0           lstm[0][1]                       \n",
      "                                                                 lstm[0][2]                       \n",
      "__________________________________________________________________________________________________\n",
      "dense (Dense)                   (None, 128)          65664       concatenate[0][0]                \n",
      "==================================================================================================\n",
      "Total params: 374,912\n",
      "Trainable params: 374,912\n",
      "Non-trainable params: 0\n",
      "__________________________________________________________________________________________________\n"
     ]
    }
   ],
   "source": [
    "encoder_model = Model(inputs=model.layers[0].input, outputs=model.layers[3].output)\n",
    "encoder_model.summary()"
   ]
  },
  {
   "cell_type": "markdown",
   "metadata": {
    "id": "hwYTH9jjnrpf",
    "papermill": {
     "duration": 0.212205,
     "end_time": "2021-01-06T12:07:16.692544",
     "exception": false,
     "start_time": "2021-01-06T12:07:16.480339",
     "status": "completed"
    },
    "tags": []
   },
   "source": [
    "Next, we need to create an intermediary model, one that can decode the latent space into the states that need to be set as inputs to the decoder LSTM cells. A new input, matching the latent space is defined. The model layers from before can be reused to get the h and c states; that way we are able to inherit the weights from the trained model.\n"
   ]
  },
  {
   "cell_type": "markdown",
   "metadata": {
    "papermill": {
     "duration": 0.316114,
     "end_time": "2021-01-06T12:07:17.319868",
     "exception": false,
     "start_time": "2021-01-06T12:07:17.003754",
     "status": "completed"
    },
    "tags": []
   },
   "source": [
    "### Create a model for mapping from the latent space to the input states of the decoder LSTM model"
   ]
  },
  {
   "cell_type": "code",
   "execution_count": 13,
   "metadata": {
    "execution": {
     "iopub.execute_input": "2021-01-06T12:07:17.961925Z",
     "iopub.status.busy": "2021-01-06T12:07:17.961245Z",
     "iopub.status.idle": "2021-01-06T12:07:17.986394Z",
     "shell.execute_reply": "2021-01-06T12:07:17.986966Z"
    },
    "executionInfo": {
     "elapsed": 101441,
     "status": "ok",
     "timestamp": 1595946487077,
     "user": {
      "displayName": "Brent Larzalere",
      "photoUrl": "https://lh3.googleusercontent.com/a-/AOh14GgI8CfxhQrguX3H8A4FuD7hkmexPHGUR2BYfGRiRA=s64",
      "userId": "06755738025051518189"
     },
     "user_tz": 300
    },
    "id": "axLonDepoN9F",
    "outputId": "3a8d2067-f420-4d45-adff-5ca3480fbf0a",
    "papermill": {
     "duration": 0.349716,
     "end_time": "2021-01-06T12:07:17.987153",
     "exception": false,
     "start_time": "2021-01-06T12:07:17.637437",
     "status": "completed"
    },
    "tags": []
   },
   "outputs": [
    {
     "name": "stdout",
     "output_type": "stream",
     "text": [
      "Model: \"functional_3\"\n",
      "__________________________________________________________________________________________________\n",
      "Layer (type)                    Output Shape         Param #     Connected to                     \n",
      "==================================================================================================\n",
      "input_1 (InputLayer)            [(None, 128)]        0                                            \n",
      "__________________________________________________________________________________________________\n",
      "dense_1 (Dense)                 (None, 256)          33024       input_1[0][0]                    \n",
      "__________________________________________________________________________________________________\n",
      "dense_2 (Dense)                 (None, 256)          33024       input_1[0][0]                    \n",
      "==================================================================================================\n",
      "Total params: 66,048\n",
      "Trainable params: 66,048\n",
      "Non-trainable params: 0\n",
      "__________________________________________________________________________________________________\n"
     ]
    }
   ],
   "source": [
    "latent_input = Input(shape=(128, ))\n",
    "state_h = model.layers[5](latent_input)\n",
    "state_c = model.layers[6](latent_input)\n",
    "latent_to_states_model = Model(latent_input, [state_h, state_c])\n",
    "latent_to_states_model.summary()"
   ]
  },
  {
   "cell_type": "markdown",
   "metadata": {
    "id": "uzW7bvp-qS_p",
    "papermill": {
     "duration": 0.210669,
     "end_time": "2021-01-06T12:07:18.409873",
     "exception": false,
     "start_time": "2021-01-06T12:07:18.199204",
     "status": "completed"
    },
    "tags": []
   },
   "source": [
    "Now it's time to create the decoder model. The base model was trained in a stateless batch mode; however, we will setup the decoder model to be stateful so as to predict one character at a time. The layers are defined exactly as before, except with a new batch_shape."
   ]
  },
  {
   "cell_type": "markdown",
   "metadata": {
    "papermill": {
     "duration": 0.215024,
     "end_time": "2021-01-06T12:07:18.837803",
     "exception": false,
     "start_time": "2021-01-06T12:07:18.622779",
     "status": "completed"
    },
    "tags": []
   },
   "source": [
    "### Define the stateful decoder model"
   ]
  },
  {
   "cell_type": "code",
   "execution_count": 14,
   "metadata": {
    "execution": {
     "iopub.execute_input": "2021-01-06T12:07:19.271094Z",
     "iopub.status.busy": "2021-01-06T12:07:19.270448Z",
     "iopub.status.idle": "2021-01-06T12:07:19.609345Z",
     "shell.execute_reply": "2021-01-06T12:07:19.609844Z"
    },
    "id": "DBLinGRuq3KM",
    "papermill": {
     "duration": 0.556212,
     "end_time": "2021-01-06T12:07:19.609995",
     "exception": false,
     "start_time": "2021-01-06T12:07:19.053783",
     "status": "completed"
    },
    "tags": []
   },
   "outputs": [],
   "source": [
    "decoder_inputs = Input(batch_shape=(1, 1, 45))\n",
    "decoder_lstm = LSTM(256, return_sequences=True, stateful=True)(decoder_inputs)\n",
    "decoder_outputs = Dense(45, activation='softmax')(decoder_lstm)\n",
    "gen_model = Model(decoder_inputs, decoder_outputs)"
   ]
  },
  {
   "cell_type": "markdown",
   "metadata": {
    "papermill": {
     "duration": 0.208385,
     "end_time": "2021-01-06T12:07:20.028466",
     "exception": false,
     "start_time": "2021-01-06T12:07:19.820081",
     "status": "completed"
    },
    "tags": []
   },
   "source": [
    "### Transfer the weights from the model to our generative model"
   ]
  },
  {
   "cell_type": "code",
   "execution_count": 15,
   "metadata": {
    "execution": {
     "iopub.execute_input": "2021-01-06T12:07:20.455490Z",
     "iopub.status.busy": "2021-01-06T12:07:20.453404Z",
     "iopub.status.idle": "2021-01-06T12:07:20.478079Z",
     "shell.execute_reply": "2021-01-06T12:07:20.477494Z"
    },
    "executionInfo": {
     "elapsed": 102027,
     "status": "ok",
     "timestamp": 1595946487677,
     "user": {
      "displayName": "Brent Larzalere",
      "photoUrl": "https://lh3.googleusercontent.com/a-/AOh14GgI8CfxhQrguX3H8A4FuD7hkmexPHGUR2BYfGRiRA=s64",
      "userId": "06755738025051518189"
     },
     "user_tz": 300
    },
    "id": "9E7tnD2tuI_J",
    "outputId": "8a6c10eb-f39b-4a74-8b75-852d6bd19846",
    "papermill": {
     "duration": 0.241013,
     "end_time": "2021-01-06T12:07:20.478200",
     "exception": false,
     "start_time": "2021-01-06T12:07:20.237187",
     "status": "completed"
    },
    "tags": []
   },
   "outputs": [
    {
     "name": "stdout",
     "output_type": "stream",
     "text": [
      "Model: \"functional_5\"\n",
      "_________________________________________________________________\n",
      "Layer (type)                 Output Shape              Param #   \n",
      "=================================================================\n",
      "input_2 (InputLayer)         [(1, 1, 45)]              0         \n",
      "_________________________________________________________________\n",
      "lstm (LSTM)                  (1, 1, 256)               309248    \n",
      "_________________________________________________________________\n",
      "dense (Dense)                (1, 1, 45)                11565     \n",
      "=================================================================\n",
      "Total params: 320,813\n",
      "Trainable params: 320,813\n",
      "Non-trainable params: 0\n",
      "_________________________________________________________________\n"
     ]
    }
   ],
   "source": [
    "for i in range(1,3):\n",
    "    gen_model.layers[i].set_weights(model.layers[i+6].get_weights())\n",
    "gen_model.save(\"gen_model.h5\")\n",
    "gen_model.summary()"
   ]
  },
  {
   "cell_type": "markdown",
   "metadata": {
    "id": "VCJJYGU6gKCG",
    "papermill": {
     "duration": 0.211138,
     "end_time": "2021-01-06T12:07:20.901892",
     "exception": false,
     "start_time": "2021-01-06T12:07:20.690754",
     "status": "completed"
    },
    "tags": []
   },
   "source": [
    "We can play with the temperature of the Softmax activation function during sampling. Decreasing the temperature from 1 to some lower number (e.g. 0.5) makes the RNN more confident, but also more conservative in its samples. Conversely, higher temperatures will provide more diversity but at cost of more invalid entities. "
   ]
  },
  {
   "cell_type": "markdown",
   "metadata": {
    "papermill": {
     "duration": 0.213225,
     "end_time": "2021-01-06T12:07:21.323622",
     "exception": false,
     "start_time": "2021-01-06T12:07:21.110397",
     "status": "completed"
    },
    "tags": []
   },
   "source": [
    "### Create our Softmax sampling function"
   ]
  },
  {
   "cell_type": "code",
   "execution_count": 16,
   "metadata": {
    "execution": {
     "iopub.execute_input": "2021-01-06T12:07:21.743267Z",
     "iopub.status.busy": "2021-01-06T12:07:21.742405Z",
     "iopub.status.idle": "2021-01-06T12:07:21.745500Z",
     "shell.execute_reply": "2021-01-06T12:07:21.746162Z"
    },
    "id": "NA09rdUud3WB",
    "papermill": {
     "duration": 0.217527,
     "end_time": "2021-01-06T12:07:21.746331",
     "exception": false,
     "start_time": "2021-01-06T12:07:21.528804",
     "status": "completed"
    },
    "tags": []
   },
   "outputs": [],
   "source": [
    " def sample_with_temp(preds, sampling_temp):\n",
    "    streched = np.log(preds) / sampling_temp\n",
    "    streched_probs = np.exp(streched) / np.sum(np.exp(streched))\n",
    "    return np.random.choice(range(len(streched)), p=streched_probs)"
   ]
  },
  {
   "cell_type": "markdown",
   "metadata": {
    "id": "C1maxPVmc6IQ",
    "papermill": {
     "duration": 0.31231,
     "end_time": "2021-01-06T12:07:22.375317",
     "exception": false,
     "start_time": "2021-01-06T12:07:22.063007",
     "status": "completed"
    },
    "tags": []
   },
   "source": [
    "To generate samples from the latent space, we need to compute the h and c states using the latent_to_states_model and then set the initial states of the LSTM decoder model. The generative model will be fed one input character at a time and iteratively sample the next character until the end character “E” is encountered.\n"
   ]
  },
  {
   "cell_type": "markdown",
   "metadata": {
    "papermill": {
     "duration": 0.314354,
     "end_time": "2021-01-06T12:07:23.001653",
     "exception": false,
     "start_time": "2021-01-06T12:07:22.687299",
     "status": "completed"
    },
    "tags": []
   },
   "source": [
    "### Create a function to generate new smiles from the latent space"
   ]
  },
  {
   "cell_type": "code",
   "execution_count": 17,
   "metadata": {
    "execution": {
     "iopub.execute_input": "2021-01-06T12:07:23.644410Z",
     "iopub.status.busy": "2021-01-06T12:07:23.643410Z",
     "iopub.status.idle": "2021-01-06T12:07:23.648578Z",
     "shell.execute_reply": "2021-01-06T12:07:23.649278Z"
    },
    "id": "SCAD4g2Rgm2v",
    "papermill": {
     "duration": 0.332017,
     "end_time": "2021-01-06T12:07:23.649463",
     "exception": false,
     "start_time": "2021-01-06T12:07:23.317446",
     "status": "completed"
    },
    "tags": []
   },
   "outputs": [],
   "source": [
    "def sample_smiles(latent, n_vocab, sampling_temp):\n",
    "    #decode the latent states and set the initial state of the LSTM cells\n",
    "    states = latent_to_states_model.predict(latent)\n",
    "    gen_model.layers[1].reset_states(states=[states[0], states[1]])\n",
    "    # define the input character\n",
    "    startidx = char_to_int[\"!\"]\n",
    "    samplevec = np.zeros((1,1,n_vocab))\n",
    "    samplevec[0,0,startidx] = 1\n",
    "    sequence = \"\"\n",
    "    # loop to predict the next smiles character\n",
    "    for i in range(101):\n",
    "        preds = gen_model.predict(samplevec)[0][-1]\n",
    "        if sampling_temp == 1.0:\n",
    "            sampleidx = np.argmax(preds)\n",
    "        else:\n",
    "            sampleidx = sample_with_temp(preds, sampling_temp)\n",
    "        samplechar = int_to_char[str(sampleidx)]\n",
    "        if samplechar != \"E\":\n",
    "            sequence += samplechar\n",
    "            samplevec = np.zeros((1,1,n_vocab))\n",
    "            samplevec[0,0,sampleidx] = 1\n",
    "        else:\n",
    "            break\n",
    "    return sequence"
   ]
  },
  {
   "cell_type": "markdown",
   "metadata": {
    "id": "87t_gdVcptNz",
    "papermill": {
     "duration": 0.338581,
     "end_time": "2021-01-06T12:07:24.304759",
     "exception": false,
     "start_time": "2021-01-06T12:07:23.966178",
     "status": "completed"
    },
    "tags": []
   },
   "source": [
    "Now, we create our latent space using our encoder model."
   ]
  },
  {
   "cell_type": "code",
   "execution_count": 18,
   "metadata": {
    "execution": {
     "iopub.execute_input": "2021-01-06T12:07:24.944569Z",
     "iopub.status.busy": "2021-01-06T12:07:24.943709Z",
     "iopub.status.idle": "2021-01-06T12:07:25.772858Z",
     "shell.execute_reply": "2021-01-06T12:07:25.771924Z"
    },
    "executionInfo": {
     "elapsed": 102480,
     "status": "ok",
     "timestamp": 1595946488159,
     "user": {
      "displayName": "Brent Larzalere",
      "photoUrl": "https://lh3.googleusercontent.com/a-/AOh14GgI8CfxhQrguX3H8A4FuD7hkmexPHGUR2BYfGRiRA=s64",
      "userId": "06755738025051518189"
     },
     "user_tz": 300
    },
    "id": "-_1KwAKnovnl",
    "outputId": "8d7111d2-c479-495e-e3de-918eb9084064",
    "papermill": {
     "duration": 1.152891,
     "end_time": "2021-01-06T12:07:25.773036",
     "exception": false,
     "start_time": "2021-01-06T12:07:24.620145",
     "status": "completed"
    },
    "tags": []
   },
   "outputs": [
    {
     "name": "stdout",
     "output_type": "stream",
     "text": [
      "Latent space shape: (100, 128)\n"
     ]
    }
   ],
   "source": [
    "# create the latent space\n",
    "latent_space = encoder_model.predict(X_train)\n",
    "print(f'Latent space shape: {latent_space.shape}')"
   ]
  },
  {
   "cell_type": "markdown",
   "metadata": {
    "id": "WfW9HceQrLRs",
    "papermill": {
     "duration": 0.316648,
     "end_time": "2021-01-06T12:07:26.408348",
     "exception": false,
     "start_time": "2021-01-06T12:07:26.091700",
     "status": "completed"
    },
    "tags": []
   },
   "source": [
    "Now we create a function to generate smiles molecules around a vector in our latent space."
   ]
  },
  {
   "cell_type": "markdown",
   "metadata": {
    "papermill": {
     "duration": 0.315437,
     "end_time": "2021-01-06T12:07:27.037141",
     "exception": false,
     "start_time": "2021-01-06T12:07:26.721704",
     "status": "completed"
    },
    "tags": []
   },
   "source": [
    "### Function to generate smiles around a latent vector"
   ]
  },
  {
   "cell_type": "code",
   "execution_count": 19,
   "metadata": {
    "execution": {
     "iopub.execute_input": "2021-01-06T12:07:27.678568Z",
     "iopub.status.busy": "2021-01-06T12:07:27.677493Z",
     "iopub.status.idle": "2021-01-06T12:07:27.681148Z",
     "shell.execute_reply": "2021-01-06T12:07:27.680447Z"
    },
    "id": "OUwPQWw7qPgY",
    "papermill": {
     "duration": 0.326397,
     "end_time": "2021-01-06T12:07:27.681286",
     "exception": false,
     "start_time": "2021-01-06T12:07:27.354889",
     "status": "completed"
    },
    "tags": []
   },
   "outputs": [],
   "source": [
    "def generate(latent_seed, sampling_temp, scale, quant):\n",
    "    samples, mols = [], []\n",
    "    for i in range(quant):\n",
    "        latent_vec = latent_seed + scale*(np.random.randn(latent_seed.shape[1]))\n",
    "        out = sample_smiles(latent_vec, n_vocab, sampling_temp)\n",
    "        samples.append(out)\n",
    "    return samples"
   ]
  },
  {
   "cell_type": "markdown",
   "metadata": {
    "papermill": {
     "duration": 0.341079,
     "end_time": "2021-01-06T12:07:28.996591",
     "exception": false,
     "start_time": "2021-01-06T12:07:28.655512",
     "status": "completed"
    },
    "tags": []
   },
   "source": [
    "### Generate our smiles molecules"
   ]
  },
  {
   "cell_type": "code",
   "execution_count": 20,
   "metadata": {
    "execution": {
     "iopub.execute_input": "2021-01-06T12:07:29.639191Z",
     "iopub.status.busy": "2021-01-06T12:07:29.638221Z",
     "iopub.status.idle": "2021-01-06T12:08:38.830271Z",
     "shell.execute_reply": "2021-01-06T12:08:38.830968Z"
    },
    "executionInfo": {
     "elapsed": 49735,
     "status": "ok",
     "timestamp": 1595946731306,
     "user": {
      "displayName": "Brent Larzalere",
      "photoUrl": "https://lh3.googleusercontent.com/a-/AOh14GgI8CfxhQrguX3H8A4FuD7hkmexPHGUR2BYfGRiRA=s64",
      "userId": "06755738025051518189"
     },
     "user_tz": 300
    },
    "id": "yWA5f1bdxAq4",
    "outputId": "2bcebec7-6b7e-4363-eef0-bdfd3e454654",
    "papermill": {
     "duration": 69.519943,
     "end_time": "2021-01-06T12:08:38.831167",
     "exception": false,
     "start_time": "2021-01-06T12:07:29.311224",
     "status": "completed"
    },
    "tags": []
   },
   "outputs": [],
   "source": [
    "latent_seed = latent_space[50:51]\n",
    "sampling_temp = 0.75\n",
    "scale = 0.5\n",
    "quantity = 20\n",
    "t_smiles = generate(latent_seed, sampling_temp, scale, quantity)"
   ]
  },
  {
   "cell_type": "code",
   "execution_count": 21,
   "metadata": {
    "execution": {
     "iopub.execute_input": "2021-01-06T12:08:39.475935Z",
     "iopub.status.busy": "2021-01-06T12:08:39.474797Z",
     "iopub.status.idle": "2021-01-06T12:08:39.480197Z",
     "shell.execute_reply": "2021-01-06T12:08:39.479478Z"
    },
    "executionInfo": {
     "elapsed": 295,
     "status": "ok",
     "timestamp": 1595946751714,
     "user": {
      "displayName": "Brent Larzalere",
      "photoUrl": "https://lh3.googleusercontent.com/a-/AOh14GgI8CfxhQrguX3H8A4FuD7hkmexPHGUR2BYfGRiRA=s64",
      "userId": "06755738025051518189"
     },
     "user_tz": 300
    },
    "id": "aCy71lt9v-1L",
    "outputId": "ebebe7ce-c259-4542-f723-c403cba45198",
    "papermill": {
     "duration": 0.33066,
     "end_time": "2021-01-06T12:08:39.480353",
     "exception": false,
     "start_time": "2021-01-06T12:08:39.149693",
     "status": "completed"
    },
    "tags": []
   },
   "outputs": [
    {
     "name": "stdout",
     "output_type": "stream",
     "text": [
      "CN1C(C(SC(=Cc2ccccc2)c2cccc(CN=C(=O)Nc3ccc(F)cc3)c2oc3nonc2NCCCC(F)F)N3)CCC1\n",
      "CNNC(=SC(C)(Cc1ccccc2)c1ccccc1C(=O)NC(O)(c1ccccn1)C(=O)O)N2CCCCF)C(=O)OC\n",
      "NC1(C(SC(=CCn2ccccc2Oc2cccc(N3CCOC(=O)c3ccccc3F)N2CCCCCl)C2CC(=O)O)N2CCS12N\n"
     ]
    }
   ],
   "source": [
    "for i in t_smiles[:3]:\n",
    "    print(i)"
   ]
  }
 ],
 "metadata": {
  "kernelspec": {
   "display_name": "Python 3",
   "language": "python",
   "name": "python3"
  },
  "language_info": {
   "codemirror_mode": {
    "name": "ipython",
    "version": 3
   },
   "file_extension": ".py",
   "mimetype": "text/x-python",
   "name": "python",
   "nbconvert_exporter": "python",
   "pygments_lexer": "ipython3",
   "version": "3.8.3"
  },
  "papermill": {
   "duration": 283.242454,
   "end_time": "2021-01-06T12:08:40.878356",
   "environment_variables": {},
   "exception": null,
   "input_path": "__notebook__.ipynb",
   "output_path": "__notebook__.ipynb",
   "parameters": {},
   "start_time": "2021-01-06T12:03:57.635902",
   "version": "2.1.0"
  }
 },
 "nbformat": 4,
 "nbformat_minor": 4
}
